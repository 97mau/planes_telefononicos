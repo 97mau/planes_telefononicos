{
 "cells": [
  {
   "cell_type": "markdown",
   "metadata": {},
   "source": [
    "# ¿Cuál es un mejor plan?\n",
    "\n",
    "Trabajas como analista para el operador de telecomunicaciones Megaline. La empresa ofrece a sus clientes dos tarifas de prepago, Surf y Ultimate. El departamento comercial quiere saber cuál de los planes genera más ingresos para poder ajustar el presupuesto de publicidad.\n",
    "\n",
    "Vas a realizar un análisis preliminar de las tarifas basado en una selección de clientes relativamente pequeña. Tendrás los datos de 500 clientes de Megaline: quiénes son los clientes, de dónde son, qué tarifa usan, así como la cantidad de llamadas que hicieron y los mensajes de texto que enviaron en 2018. Tu trabajo es analizar el comportamiento de los clientes y determinar qué tarifa de prepago genera más ingresos."
   ]
  },
  {
   "cell_type": "markdown",
   "metadata": {},
   "source": [
    "## Inicialización"
   ]
  },
  {
   "cell_type": "markdown",
   "metadata": {},
   "source": []
  },
  {
   "cell_type": "code",
   "execution_count": 65,
   "metadata": {},
   "outputs": [],
   "source": [
    "# Cargar todas las librerías\n",
    "import pandas as pd\n",
    "import numpy as np\n",
    "import math\n",
    "import random\n",
    "import matplotlib.pyplot as plt\n",
    "import seaborn as sns\n",
    "from scipy.stats import ttest_ind\n",
    "from scipy.stats import levene\n",
    "from scipy.stats import f_oneway"
   ]
  },
  {
   "cell_type": "markdown",
   "metadata": {},
   "source": [
    "## Cargar los datos"
   ]
  },
  {
   "cell_type": "markdown",
   "metadata": {},
   "source": []
  },
  {
   "cell_type": "code",
   "execution_count": 66,
   "metadata": {},
   "outputs": [],
   "source": [
    "df_calls = pd.read_csv('/datasets/megaline_calls.csv')\n",
    "\n",
    "df_internet = pd.read_csv('/datasets/megaline_internet.csv')\n",
    "\n",
    "df_messages = pd.read_csv('/datasets/megaline_messages.csv')\n",
    "\n",
    "df_plans = pd.read_csv('/datasets/megaline_plans.csv')\n",
    "\n",
    "df_users = pd.read_csv('/datasets/megaline_users.csv')"
   ]
  },
  {
   "cell_type": "markdown",
   "metadata": {},
   "source": [
    "## Preparar los datos"
   ]
  },
  {
   "cell_type": "code",
   "execution_count": 67,
   "metadata": {},
   "outputs": [
    {
     "data": {
      "text/html": [
       "<div>\n",
       "<style scoped>\n",
       "    .dataframe tbody tr th:only-of-type {\n",
       "        vertical-align: middle;\n",
       "    }\n",
       "\n",
       "    .dataframe tbody tr th {\n",
       "        vertical-align: top;\n",
       "    }\n",
       "\n",
       "    .dataframe thead th {\n",
       "        text-align: right;\n",
       "    }\n",
       "</style>\n",
       "<table border=\"1\" class=\"dataframe\">\n",
       "  <thead>\n",
       "    <tr style=\"text-align: right;\">\n",
       "      <th></th>\n",
       "      <th>id</th>\n",
       "      <th>user_id</th>\n",
       "      <th>call_date</th>\n",
       "      <th>duration</th>\n",
       "    </tr>\n",
       "  </thead>\n",
       "  <tbody>\n",
       "    <tr>\n",
       "      <th>0</th>\n",
       "      <td>1000_93</td>\n",
       "      <td>1000</td>\n",
       "      <td>2018-12-27</td>\n",
       "      <td>8.52</td>\n",
       "    </tr>\n",
       "    <tr>\n",
       "      <th>1</th>\n",
       "      <td>1000_145</td>\n",
       "      <td>1000</td>\n",
       "      <td>2018-12-27</td>\n",
       "      <td>13.66</td>\n",
       "    </tr>\n",
       "    <tr>\n",
       "      <th>2</th>\n",
       "      <td>1000_247</td>\n",
       "      <td>1000</td>\n",
       "      <td>2018-12-27</td>\n",
       "      <td>14.48</td>\n",
       "    </tr>\n",
       "    <tr>\n",
       "      <th>3</th>\n",
       "      <td>1000_309</td>\n",
       "      <td>1000</td>\n",
       "      <td>2018-12-28</td>\n",
       "      <td>5.76</td>\n",
       "    </tr>\n",
       "    <tr>\n",
       "      <th>4</th>\n",
       "      <td>1000_380</td>\n",
       "      <td>1000</td>\n",
       "      <td>2018-12-30</td>\n",
       "      <td>4.22</td>\n",
       "    </tr>\n",
       "    <tr>\n",
       "      <th>...</th>\n",
       "      <td>...</td>\n",
       "      <td>...</td>\n",
       "      <td>...</td>\n",
       "      <td>...</td>\n",
       "    </tr>\n",
       "    <tr>\n",
       "      <th>137730</th>\n",
       "      <td>1499_199</td>\n",
       "      <td>1499</td>\n",
       "      <td>2018-11-21</td>\n",
       "      <td>8.72</td>\n",
       "    </tr>\n",
       "    <tr>\n",
       "      <th>137731</th>\n",
       "      <td>1499_200</td>\n",
       "      <td>1499</td>\n",
       "      <td>2018-10-20</td>\n",
       "      <td>10.89</td>\n",
       "    </tr>\n",
       "    <tr>\n",
       "      <th>137732</th>\n",
       "      <td>1499_201</td>\n",
       "      <td>1499</td>\n",
       "      <td>2018-09-21</td>\n",
       "      <td>8.12</td>\n",
       "    </tr>\n",
       "    <tr>\n",
       "      <th>137733</th>\n",
       "      <td>1499_202</td>\n",
       "      <td>1499</td>\n",
       "      <td>2018-10-10</td>\n",
       "      <td>0.37</td>\n",
       "    </tr>\n",
       "    <tr>\n",
       "      <th>137734</th>\n",
       "      <td>1499_203</td>\n",
       "      <td>1499</td>\n",
       "      <td>2018-12-29</td>\n",
       "      <td>13.86</td>\n",
       "    </tr>\n",
       "  </tbody>\n",
       "</table>\n",
       "<p>137735 rows × 4 columns</p>\n",
       "</div>"
      ],
      "text/plain": [
       "              id  user_id   call_date  duration\n",
       "0        1000_93     1000  2018-12-27      8.52\n",
       "1       1000_145     1000  2018-12-27     13.66\n",
       "2       1000_247     1000  2018-12-27     14.48\n",
       "3       1000_309     1000  2018-12-28      5.76\n",
       "4       1000_380     1000  2018-12-30      4.22\n",
       "...          ...      ...         ...       ...\n",
       "137730  1499_199     1499  2018-11-21      8.72\n",
       "137731  1499_200     1499  2018-10-20     10.89\n",
       "137732  1499_201     1499  2018-09-21      8.12\n",
       "137733  1499_202     1499  2018-10-10      0.37\n",
       "137734  1499_203     1499  2018-12-29     13.86\n",
       "\n",
       "[137735 rows x 4 columns]"
      ]
     },
     "execution_count": 67,
     "metadata": {},
     "output_type": "execute_result"
    }
   ],
   "source": [
    "df_calls"
   ]
  },
  {
   "cell_type": "code",
   "execution_count": 68,
   "metadata": {},
   "outputs": [
    {
     "data": {
      "text/html": [
       "<div>\n",
       "<style scoped>\n",
       "    .dataframe tbody tr th:only-of-type {\n",
       "        vertical-align: middle;\n",
       "    }\n",
       "\n",
       "    .dataframe tbody tr th {\n",
       "        vertical-align: top;\n",
       "    }\n",
       "\n",
       "    .dataframe thead th {\n",
       "        text-align: right;\n",
       "    }\n",
       "</style>\n",
       "<table border=\"1\" class=\"dataframe\">\n",
       "  <thead>\n",
       "    <tr style=\"text-align: right;\">\n",
       "      <th></th>\n",
       "      <th>id</th>\n",
       "      <th>user_id</th>\n",
       "      <th>session_date</th>\n",
       "      <th>mb_used</th>\n",
       "    </tr>\n",
       "  </thead>\n",
       "  <tbody>\n",
       "    <tr>\n",
       "      <th>0</th>\n",
       "      <td>1000_13</td>\n",
       "      <td>1000</td>\n",
       "      <td>2018-12-29</td>\n",
       "      <td>89.86</td>\n",
       "    </tr>\n",
       "    <tr>\n",
       "      <th>1</th>\n",
       "      <td>1000_204</td>\n",
       "      <td>1000</td>\n",
       "      <td>2018-12-31</td>\n",
       "      <td>0.00</td>\n",
       "    </tr>\n",
       "    <tr>\n",
       "      <th>2</th>\n",
       "      <td>1000_379</td>\n",
       "      <td>1000</td>\n",
       "      <td>2018-12-28</td>\n",
       "      <td>660.40</td>\n",
       "    </tr>\n",
       "    <tr>\n",
       "      <th>3</th>\n",
       "      <td>1000_413</td>\n",
       "      <td>1000</td>\n",
       "      <td>2018-12-26</td>\n",
       "      <td>270.99</td>\n",
       "    </tr>\n",
       "    <tr>\n",
       "      <th>4</th>\n",
       "      <td>1000_442</td>\n",
       "      <td>1000</td>\n",
       "      <td>2018-12-27</td>\n",
       "      <td>880.22</td>\n",
       "    </tr>\n",
       "    <tr>\n",
       "      <th>...</th>\n",
       "      <td>...</td>\n",
       "      <td>...</td>\n",
       "      <td>...</td>\n",
       "      <td>...</td>\n",
       "    </tr>\n",
       "    <tr>\n",
       "      <th>104820</th>\n",
       "      <td>1499_215</td>\n",
       "      <td>1499</td>\n",
       "      <td>2018-10-20</td>\n",
       "      <td>218.06</td>\n",
       "    </tr>\n",
       "    <tr>\n",
       "      <th>104821</th>\n",
       "      <td>1499_216</td>\n",
       "      <td>1499</td>\n",
       "      <td>2018-12-30</td>\n",
       "      <td>304.72</td>\n",
       "    </tr>\n",
       "    <tr>\n",
       "      <th>104822</th>\n",
       "      <td>1499_217</td>\n",
       "      <td>1499</td>\n",
       "      <td>2018-09-22</td>\n",
       "      <td>292.75</td>\n",
       "    </tr>\n",
       "    <tr>\n",
       "      <th>104823</th>\n",
       "      <td>1499_218</td>\n",
       "      <td>1499</td>\n",
       "      <td>2018-12-07</td>\n",
       "      <td>0.00</td>\n",
       "    </tr>\n",
       "    <tr>\n",
       "      <th>104824</th>\n",
       "      <td>1499_219</td>\n",
       "      <td>1499</td>\n",
       "      <td>2018-12-24</td>\n",
       "      <td>758.31</td>\n",
       "    </tr>\n",
       "  </tbody>\n",
       "</table>\n",
       "<p>104825 rows × 4 columns</p>\n",
       "</div>"
      ],
      "text/plain": [
       "              id  user_id session_date  mb_used\n",
       "0        1000_13     1000   2018-12-29    89.86\n",
       "1       1000_204     1000   2018-12-31     0.00\n",
       "2       1000_379     1000   2018-12-28   660.40\n",
       "3       1000_413     1000   2018-12-26   270.99\n",
       "4       1000_442     1000   2018-12-27   880.22\n",
       "...          ...      ...          ...      ...\n",
       "104820  1499_215     1499   2018-10-20   218.06\n",
       "104821  1499_216     1499   2018-12-30   304.72\n",
       "104822  1499_217     1499   2018-09-22   292.75\n",
       "104823  1499_218     1499   2018-12-07     0.00\n",
       "104824  1499_219     1499   2018-12-24   758.31\n",
       "\n",
       "[104825 rows x 4 columns]"
      ]
     },
     "execution_count": 68,
     "metadata": {},
     "output_type": "execute_result"
    }
   ],
   "source": [
    "df_internet"
   ]
  },
  {
   "cell_type": "code",
   "execution_count": 69,
   "metadata": {},
   "outputs": [
    {
     "data": {
      "text/html": [
       "<div>\n",
       "<style scoped>\n",
       "    .dataframe tbody tr th:only-of-type {\n",
       "        vertical-align: middle;\n",
       "    }\n",
       "\n",
       "    .dataframe tbody tr th {\n",
       "        vertical-align: top;\n",
       "    }\n",
       "\n",
       "    .dataframe thead th {\n",
       "        text-align: right;\n",
       "    }\n",
       "</style>\n",
       "<table border=\"1\" class=\"dataframe\">\n",
       "  <thead>\n",
       "    <tr style=\"text-align: right;\">\n",
       "      <th></th>\n",
       "      <th>id</th>\n",
       "      <th>user_id</th>\n",
       "      <th>message_date</th>\n",
       "    </tr>\n",
       "  </thead>\n",
       "  <tbody>\n",
       "    <tr>\n",
       "      <th>0</th>\n",
       "      <td>1000_125</td>\n",
       "      <td>1000</td>\n",
       "      <td>2018-12-27</td>\n",
       "    </tr>\n",
       "    <tr>\n",
       "      <th>1</th>\n",
       "      <td>1000_160</td>\n",
       "      <td>1000</td>\n",
       "      <td>2018-12-31</td>\n",
       "    </tr>\n",
       "    <tr>\n",
       "      <th>2</th>\n",
       "      <td>1000_223</td>\n",
       "      <td>1000</td>\n",
       "      <td>2018-12-31</td>\n",
       "    </tr>\n",
       "    <tr>\n",
       "      <th>3</th>\n",
       "      <td>1000_251</td>\n",
       "      <td>1000</td>\n",
       "      <td>2018-12-27</td>\n",
       "    </tr>\n",
       "    <tr>\n",
       "      <th>4</th>\n",
       "      <td>1000_255</td>\n",
       "      <td>1000</td>\n",
       "      <td>2018-12-26</td>\n",
       "    </tr>\n",
       "    <tr>\n",
       "      <th>...</th>\n",
       "      <td>...</td>\n",
       "      <td>...</td>\n",
       "      <td>...</td>\n",
       "    </tr>\n",
       "    <tr>\n",
       "      <th>76046</th>\n",
       "      <td>1497_526</td>\n",
       "      <td>1497</td>\n",
       "      <td>2018-12-24</td>\n",
       "    </tr>\n",
       "    <tr>\n",
       "      <th>76047</th>\n",
       "      <td>1497_536</td>\n",
       "      <td>1497</td>\n",
       "      <td>2018-12-24</td>\n",
       "    </tr>\n",
       "    <tr>\n",
       "      <th>76048</th>\n",
       "      <td>1497_547</td>\n",
       "      <td>1497</td>\n",
       "      <td>2018-12-31</td>\n",
       "    </tr>\n",
       "    <tr>\n",
       "      <th>76049</th>\n",
       "      <td>1497_558</td>\n",
       "      <td>1497</td>\n",
       "      <td>2018-12-24</td>\n",
       "    </tr>\n",
       "    <tr>\n",
       "      <th>76050</th>\n",
       "      <td>1497_613</td>\n",
       "      <td>1497</td>\n",
       "      <td>2018-12-23</td>\n",
       "    </tr>\n",
       "  </tbody>\n",
       "</table>\n",
       "<p>76051 rows × 3 columns</p>\n",
       "</div>"
      ],
      "text/plain": [
       "             id  user_id message_date\n",
       "0      1000_125     1000   2018-12-27\n",
       "1      1000_160     1000   2018-12-31\n",
       "2      1000_223     1000   2018-12-31\n",
       "3      1000_251     1000   2018-12-27\n",
       "4      1000_255     1000   2018-12-26\n",
       "...         ...      ...          ...\n",
       "76046  1497_526     1497   2018-12-24\n",
       "76047  1497_536     1497   2018-12-24\n",
       "76048  1497_547     1497   2018-12-31\n",
       "76049  1497_558     1497   2018-12-24\n",
       "76050  1497_613     1497   2018-12-23\n",
       "\n",
       "[76051 rows x 3 columns]"
      ]
     },
     "execution_count": 69,
     "metadata": {},
     "output_type": "execute_result"
    }
   ],
   "source": [
    "df_messages"
   ]
  },
  {
   "cell_type": "code",
   "execution_count": 70,
   "metadata": {},
   "outputs": [
    {
     "data": {
      "text/html": [
       "<div>\n",
       "<style scoped>\n",
       "    .dataframe tbody tr th:only-of-type {\n",
       "        vertical-align: middle;\n",
       "    }\n",
       "\n",
       "    .dataframe tbody tr th {\n",
       "        vertical-align: top;\n",
       "    }\n",
       "\n",
       "    .dataframe thead th {\n",
       "        text-align: right;\n",
       "    }\n",
       "</style>\n",
       "<table border=\"1\" class=\"dataframe\">\n",
       "  <thead>\n",
       "    <tr style=\"text-align: right;\">\n",
       "      <th></th>\n",
       "      <th>messages_included</th>\n",
       "      <th>mb_per_month_included</th>\n",
       "      <th>minutes_included</th>\n",
       "      <th>usd_monthly_pay</th>\n",
       "      <th>usd_per_gb</th>\n",
       "      <th>usd_per_message</th>\n",
       "      <th>usd_per_minute</th>\n",
       "      <th>plan_name</th>\n",
       "    </tr>\n",
       "  </thead>\n",
       "  <tbody>\n",
       "    <tr>\n",
       "      <th>0</th>\n",
       "      <td>50</td>\n",
       "      <td>15360</td>\n",
       "      <td>500</td>\n",
       "      <td>20</td>\n",
       "      <td>10</td>\n",
       "      <td>0.03</td>\n",
       "      <td>0.03</td>\n",
       "      <td>surf</td>\n",
       "    </tr>\n",
       "    <tr>\n",
       "      <th>1</th>\n",
       "      <td>1000</td>\n",
       "      <td>30720</td>\n",
       "      <td>3000</td>\n",
       "      <td>70</td>\n",
       "      <td>7</td>\n",
       "      <td>0.01</td>\n",
       "      <td>0.01</td>\n",
       "      <td>ultimate</td>\n",
       "    </tr>\n",
       "  </tbody>\n",
       "</table>\n",
       "</div>"
      ],
      "text/plain": [
       "   messages_included  mb_per_month_included  minutes_included  \\\n",
       "0                 50                  15360               500   \n",
       "1               1000                  30720              3000   \n",
       "\n",
       "   usd_monthly_pay  usd_per_gb  usd_per_message  usd_per_minute plan_name  \n",
       "0               20          10             0.03            0.03      surf  \n",
       "1               70           7             0.01            0.01  ultimate  "
      ]
     },
     "execution_count": 70,
     "metadata": {},
     "output_type": "execute_result"
    }
   ],
   "source": [
    "df_plans"
   ]
  },
  {
   "cell_type": "code",
   "execution_count": 71,
   "metadata": {},
   "outputs": [
    {
     "data": {
      "text/html": [
       "<div>\n",
       "<style scoped>\n",
       "    .dataframe tbody tr th:only-of-type {\n",
       "        vertical-align: middle;\n",
       "    }\n",
       "\n",
       "    .dataframe tbody tr th {\n",
       "        vertical-align: top;\n",
       "    }\n",
       "\n",
       "    .dataframe thead th {\n",
       "        text-align: right;\n",
       "    }\n",
       "</style>\n",
       "<table border=\"1\" class=\"dataframe\">\n",
       "  <thead>\n",
       "    <tr style=\"text-align: right;\">\n",
       "      <th></th>\n",
       "      <th>user_id</th>\n",
       "      <th>first_name</th>\n",
       "      <th>last_name</th>\n",
       "      <th>age</th>\n",
       "      <th>city</th>\n",
       "      <th>reg_date</th>\n",
       "      <th>plan</th>\n",
       "      <th>churn_date</th>\n",
       "    </tr>\n",
       "  </thead>\n",
       "  <tbody>\n",
       "    <tr>\n",
       "      <th>0</th>\n",
       "      <td>1000</td>\n",
       "      <td>Anamaria</td>\n",
       "      <td>Bauer</td>\n",
       "      <td>45</td>\n",
       "      <td>Atlanta-Sandy Springs-Roswell, GA MSA</td>\n",
       "      <td>2018-12-24</td>\n",
       "      <td>ultimate</td>\n",
       "      <td>NaN</td>\n",
       "    </tr>\n",
       "    <tr>\n",
       "      <th>1</th>\n",
       "      <td>1001</td>\n",
       "      <td>Mickey</td>\n",
       "      <td>Wilkerson</td>\n",
       "      <td>28</td>\n",
       "      <td>Seattle-Tacoma-Bellevue, WA MSA</td>\n",
       "      <td>2018-08-13</td>\n",
       "      <td>surf</td>\n",
       "      <td>NaN</td>\n",
       "    </tr>\n",
       "    <tr>\n",
       "      <th>2</th>\n",
       "      <td>1002</td>\n",
       "      <td>Carlee</td>\n",
       "      <td>Hoffman</td>\n",
       "      <td>36</td>\n",
       "      <td>Las Vegas-Henderson-Paradise, NV MSA</td>\n",
       "      <td>2018-10-21</td>\n",
       "      <td>surf</td>\n",
       "      <td>NaN</td>\n",
       "    </tr>\n",
       "    <tr>\n",
       "      <th>3</th>\n",
       "      <td>1003</td>\n",
       "      <td>Reynaldo</td>\n",
       "      <td>Jenkins</td>\n",
       "      <td>52</td>\n",
       "      <td>Tulsa, OK MSA</td>\n",
       "      <td>2018-01-28</td>\n",
       "      <td>surf</td>\n",
       "      <td>NaN</td>\n",
       "    </tr>\n",
       "    <tr>\n",
       "      <th>4</th>\n",
       "      <td>1004</td>\n",
       "      <td>Leonila</td>\n",
       "      <td>Thompson</td>\n",
       "      <td>40</td>\n",
       "      <td>Seattle-Tacoma-Bellevue, WA MSA</td>\n",
       "      <td>2018-05-23</td>\n",
       "      <td>surf</td>\n",
       "      <td>NaN</td>\n",
       "    </tr>\n",
       "    <tr>\n",
       "      <th>...</th>\n",
       "      <td>...</td>\n",
       "      <td>...</td>\n",
       "      <td>...</td>\n",
       "      <td>...</td>\n",
       "      <td>...</td>\n",
       "      <td>...</td>\n",
       "      <td>...</td>\n",
       "      <td>...</td>\n",
       "    </tr>\n",
       "    <tr>\n",
       "      <th>495</th>\n",
       "      <td>1495</td>\n",
       "      <td>Fidel</td>\n",
       "      <td>Sharpe</td>\n",
       "      <td>67</td>\n",
       "      <td>New York-Newark-Jersey City, NY-NJ-PA MSA</td>\n",
       "      <td>2018-09-04</td>\n",
       "      <td>surf</td>\n",
       "      <td>NaN</td>\n",
       "    </tr>\n",
       "    <tr>\n",
       "      <th>496</th>\n",
       "      <td>1496</td>\n",
       "      <td>Ariel</td>\n",
       "      <td>Shepherd</td>\n",
       "      <td>49</td>\n",
       "      <td>New Orleans-Metairie, LA MSA</td>\n",
       "      <td>2018-02-20</td>\n",
       "      <td>surf</td>\n",
       "      <td>NaN</td>\n",
       "    </tr>\n",
       "    <tr>\n",
       "      <th>497</th>\n",
       "      <td>1497</td>\n",
       "      <td>Donte</td>\n",
       "      <td>Barrera</td>\n",
       "      <td>49</td>\n",
       "      <td>Los Angeles-Long Beach-Anaheim, CA MSA</td>\n",
       "      <td>2018-12-10</td>\n",
       "      <td>ultimate</td>\n",
       "      <td>NaN</td>\n",
       "    </tr>\n",
       "    <tr>\n",
       "      <th>498</th>\n",
       "      <td>1498</td>\n",
       "      <td>Scot</td>\n",
       "      <td>Williamson</td>\n",
       "      <td>51</td>\n",
       "      <td>New York-Newark-Jersey City, NY-NJ-PA MSA</td>\n",
       "      <td>2018-02-04</td>\n",
       "      <td>surf</td>\n",
       "      <td>NaN</td>\n",
       "    </tr>\n",
       "    <tr>\n",
       "      <th>499</th>\n",
       "      <td>1499</td>\n",
       "      <td>Shena</td>\n",
       "      <td>Dickson</td>\n",
       "      <td>37</td>\n",
       "      <td>Orlando-Kissimmee-Sanford, FL MSA</td>\n",
       "      <td>2018-05-06</td>\n",
       "      <td>surf</td>\n",
       "      <td>NaN</td>\n",
       "    </tr>\n",
       "  </tbody>\n",
       "</table>\n",
       "<p>500 rows × 8 columns</p>\n",
       "</div>"
      ],
      "text/plain": [
       "     user_id first_name   last_name  age  \\\n",
       "0       1000   Anamaria       Bauer   45   \n",
       "1       1001     Mickey   Wilkerson   28   \n",
       "2       1002     Carlee     Hoffman   36   \n",
       "3       1003   Reynaldo     Jenkins   52   \n",
       "4       1004    Leonila    Thompson   40   \n",
       "..       ...        ...         ...  ...   \n",
       "495     1495      Fidel      Sharpe   67   \n",
       "496     1496      Ariel    Shepherd   49   \n",
       "497     1497      Donte     Barrera   49   \n",
       "498     1498       Scot  Williamson   51   \n",
       "499     1499      Shena     Dickson   37   \n",
       "\n",
       "                                          city    reg_date      plan  \\\n",
       "0        Atlanta-Sandy Springs-Roswell, GA MSA  2018-12-24  ultimate   \n",
       "1              Seattle-Tacoma-Bellevue, WA MSA  2018-08-13      surf   \n",
       "2         Las Vegas-Henderson-Paradise, NV MSA  2018-10-21      surf   \n",
       "3                                Tulsa, OK MSA  2018-01-28      surf   \n",
       "4              Seattle-Tacoma-Bellevue, WA MSA  2018-05-23      surf   \n",
       "..                                         ...         ...       ...   \n",
       "495  New York-Newark-Jersey City, NY-NJ-PA MSA  2018-09-04      surf   \n",
       "496               New Orleans-Metairie, LA MSA  2018-02-20      surf   \n",
       "497     Los Angeles-Long Beach-Anaheim, CA MSA  2018-12-10  ultimate   \n",
       "498  New York-Newark-Jersey City, NY-NJ-PA MSA  2018-02-04      surf   \n",
       "499          Orlando-Kissimmee-Sanford, FL MSA  2018-05-06      surf   \n",
       "\n",
       "    churn_date  \n",
       "0          NaN  \n",
       "1          NaN  \n",
       "2          NaN  \n",
       "3          NaN  \n",
       "4          NaN  \n",
       "..         ...  \n",
       "495        NaN  \n",
       "496        NaN  \n",
       "497        NaN  \n",
       "498        NaN  \n",
       "499        NaN  \n",
       "\n",
       "[500 rows x 8 columns]"
      ]
     },
     "execution_count": 71,
     "metadata": {},
     "output_type": "execute_result"
    }
   ],
   "source": [
    "df_users"
   ]
  },
  {
   "cell_type": "markdown",
   "metadata": {},
   "source": [
    "## Planes"
   ]
  },
  {
   "cell_type": "code",
   "execution_count": 72,
   "metadata": {},
   "outputs": [
    {
     "name": "stdout",
     "output_type": "stream",
     "text": [
      "<class 'pandas.core.frame.DataFrame'>\n",
      "RangeIndex: 500 entries, 0 to 499\n",
      "Data columns (total 8 columns):\n",
      " #   Column      Non-Null Count  Dtype \n",
      "---  ------      --------------  ----- \n",
      " 0   user_id     500 non-null    int64 \n",
      " 1   first_name  500 non-null    object\n",
      " 2   last_name   500 non-null    object\n",
      " 3   age         500 non-null    int64 \n",
      " 4   city        500 non-null    object\n",
      " 5   reg_date    500 non-null    object\n",
      " 6   plan        500 non-null    object\n",
      " 7   churn_date  34 non-null     object\n",
      "dtypes: int64(2), object(6)\n",
      "memory usage: 31.4+ KB\n"
     ]
    }
   ],
   "source": [
    "# Imprime la información general/resumen sobre el DataFrame de los planes\n",
    "df_users.info()"
   ]
  },
  {
   "cell_type": "code",
   "execution_count": 73,
   "metadata": {},
   "outputs": [],
   "source": [
    "n = 10\n",
    "df_messages_sample = df_messages.sample(n)\n",
    "\n",
    "n = 20\n",
    "df_internet_sample = df_internet.sample(n)\n",
    "\n",
    "n = 30\n",
    "df_calls_sample = df_calls.sample(n)\n",
    "\n",
    "n=10\n",
    "df_users_sample = df_users.sample(n)"
   ]
  },
  {
   "cell_type": "code",
   "execution_count": 74,
   "metadata": {},
   "outputs": [
    {
     "data": {
      "text/html": [
       "<div>\n",
       "<style scoped>\n",
       "    .dataframe tbody tr th:only-of-type {\n",
       "        vertical-align: middle;\n",
       "    }\n",
       "\n",
       "    .dataframe tbody tr th {\n",
       "        vertical-align: top;\n",
       "    }\n",
       "\n",
       "    .dataframe thead th {\n",
       "        text-align: right;\n",
       "    }\n",
       "</style>\n",
       "<table border=\"1\" class=\"dataframe\">\n",
       "  <thead>\n",
       "    <tr style=\"text-align: right;\">\n",
       "      <th></th>\n",
       "      <th>id</th>\n",
       "      <th>user_id</th>\n",
       "      <th>message_date</th>\n",
       "    </tr>\n",
       "  </thead>\n",
       "  <tbody>\n",
       "    <tr>\n",
       "      <th>43619</th>\n",
       "      <td>1289_198</td>\n",
       "      <td>1289</td>\n",
       "      <td>2018-12-31</td>\n",
       "    </tr>\n",
       "    <tr>\n",
       "      <th>16351</th>\n",
       "      <td>1110_242</td>\n",
       "      <td>1110</td>\n",
       "      <td>2018-07-09</td>\n",
       "    </tr>\n",
       "    <tr>\n",
       "      <th>37567</th>\n",
       "      <td>1249_24</td>\n",
       "      <td>1249</td>\n",
       "      <td>2018-07-16</td>\n",
       "    </tr>\n",
       "    <tr>\n",
       "      <th>10593</th>\n",
       "      <td>1076_1343</td>\n",
       "      <td>1076</td>\n",
       "      <td>2018-11-30</td>\n",
       "    </tr>\n",
       "    <tr>\n",
       "      <th>74073</th>\n",
       "      <td>1475_207</td>\n",
       "      <td>1475</td>\n",
       "      <td>2018-12-05</td>\n",
       "    </tr>\n",
       "    <tr>\n",
       "      <th>19843</th>\n",
       "      <td>1126_727</td>\n",
       "      <td>1126</td>\n",
       "      <td>2018-06-16</td>\n",
       "    </tr>\n",
       "    <tr>\n",
       "      <th>3341</th>\n",
       "      <td>1036_176</td>\n",
       "      <td>1036</td>\n",
       "      <td>2018-12-03</td>\n",
       "    </tr>\n",
       "    <tr>\n",
       "      <th>822</th>\n",
       "      <td>1007_124</td>\n",
       "      <td>1007</td>\n",
       "      <td>2018-11-03</td>\n",
       "    </tr>\n",
       "    <tr>\n",
       "      <th>26213</th>\n",
       "      <td>1159_216</td>\n",
       "      <td>1159</td>\n",
       "      <td>2018-11-28</td>\n",
       "    </tr>\n",
       "    <tr>\n",
       "      <th>8969</th>\n",
       "      <td>1066_142</td>\n",
       "      <td>1066</td>\n",
       "      <td>2018-09-27</td>\n",
       "    </tr>\n",
       "  </tbody>\n",
       "</table>\n",
       "</div>"
      ],
      "text/plain": [
       "              id  user_id message_date\n",
       "43619   1289_198     1289   2018-12-31\n",
       "16351   1110_242     1110   2018-07-09\n",
       "37567    1249_24     1249   2018-07-16\n",
       "10593  1076_1343     1076   2018-11-30\n",
       "74073   1475_207     1475   2018-12-05\n",
       "19843   1126_727     1126   2018-06-16\n",
       "3341    1036_176     1036   2018-12-03\n",
       "822     1007_124     1007   2018-11-03\n",
       "26213   1159_216     1159   2018-11-28\n",
       "8969    1066_142     1066   2018-09-27"
      ]
     },
     "execution_count": 74,
     "metadata": {},
     "output_type": "execute_result"
    }
   ],
   "source": [
    "df_messages_sample"
   ]
  },
  {
   "cell_type": "code",
   "execution_count": 75,
   "metadata": {},
   "outputs": [
    {
     "data": {
      "text/html": [
       "<div>\n",
       "<style scoped>\n",
       "    .dataframe tbody tr th:only-of-type {\n",
       "        vertical-align: middle;\n",
       "    }\n",
       "\n",
       "    .dataframe tbody tr th {\n",
       "        vertical-align: top;\n",
       "    }\n",
       "\n",
       "    .dataframe thead th {\n",
       "        text-align: right;\n",
       "    }\n",
       "</style>\n",
       "<table border=\"1\" class=\"dataframe\">\n",
       "  <thead>\n",
       "    <tr style=\"text-align: right;\">\n",
       "      <th></th>\n",
       "      <th>id</th>\n",
       "      <th>user_id</th>\n",
       "      <th>session_date</th>\n",
       "      <th>mb_used</th>\n",
       "    </tr>\n",
       "  </thead>\n",
       "  <tbody>\n",
       "    <tr>\n",
       "      <th>41130</th>\n",
       "      <td>1185_167</td>\n",
       "      <td>1185</td>\n",
       "      <td>2018-04-25</td>\n",
       "      <td>72.75</td>\n",
       "    </tr>\n",
       "    <tr>\n",
       "      <th>20626</th>\n",
       "      <td>1095_314</td>\n",
       "      <td>1095</td>\n",
       "      <td>2018-11-08</td>\n",
       "      <td>615.20</td>\n",
       "    </tr>\n",
       "    <tr>\n",
       "      <th>52825</th>\n",
       "      <td>1238_59</td>\n",
       "      <td>1238</td>\n",
       "      <td>2018-12-06</td>\n",
       "      <td>407.68</td>\n",
       "    </tr>\n",
       "    <tr>\n",
       "      <th>54370</th>\n",
       "      <td>1246_271</td>\n",
       "      <td>1246</td>\n",
       "      <td>2018-03-28</td>\n",
       "      <td>372.67</td>\n",
       "    </tr>\n",
       "    <tr>\n",
       "      <th>84971</th>\n",
       "      <td>1397_227</td>\n",
       "      <td>1397</td>\n",
       "      <td>2018-06-04</td>\n",
       "      <td>0.00</td>\n",
       "    </tr>\n",
       "    <tr>\n",
       "      <th>46310</th>\n",
       "      <td>1206_50</td>\n",
       "      <td>1206</td>\n",
       "      <td>2018-12-16</td>\n",
       "      <td>666.08</td>\n",
       "    </tr>\n",
       "    <tr>\n",
       "      <th>53826</th>\n",
       "      <td>1243_128</td>\n",
       "      <td>1243</td>\n",
       "      <td>2018-11-11</td>\n",
       "      <td>545.09</td>\n",
       "    </tr>\n",
       "    <tr>\n",
       "      <th>82490</th>\n",
       "      <td>1385_241</td>\n",
       "      <td>1385</td>\n",
       "      <td>2018-06-03</td>\n",
       "      <td>127.41</td>\n",
       "    </tr>\n",
       "    <tr>\n",
       "      <th>1513</th>\n",
       "      <td>1009_48</td>\n",
       "      <td>1009</td>\n",
       "      <td>2018-08-30</td>\n",
       "      <td>699.74</td>\n",
       "    </tr>\n",
       "    <tr>\n",
       "      <th>21690</th>\n",
       "      <td>1099_445</td>\n",
       "      <td>1099</td>\n",
       "      <td>2018-12-13</td>\n",
       "      <td>215.56</td>\n",
       "    </tr>\n",
       "    <tr>\n",
       "      <th>32750</th>\n",
       "      <td>1147_392</td>\n",
       "      <td>1147</td>\n",
       "      <td>2018-11-28</td>\n",
       "      <td>480.25</td>\n",
       "    </tr>\n",
       "    <tr>\n",
       "      <th>1018</th>\n",
       "      <td>1007_2</td>\n",
       "      <td>1007</td>\n",
       "      <td>2018-10-26</td>\n",
       "      <td>341.43</td>\n",
       "    </tr>\n",
       "    <tr>\n",
       "      <th>76259</th>\n",
       "      <td>1358_474</td>\n",
       "      <td>1358</td>\n",
       "      <td>2018-10-28</td>\n",
       "      <td>52.33</td>\n",
       "    </tr>\n",
       "    <tr>\n",
       "      <th>83562</th>\n",
       "      <td>1390_117</td>\n",
       "      <td>1390</td>\n",
       "      <td>2018-10-26</td>\n",
       "      <td>616.76</td>\n",
       "    </tr>\n",
       "    <tr>\n",
       "      <th>89012</th>\n",
       "      <td>1410_124</td>\n",
       "      <td>1410</td>\n",
       "      <td>2018-10-30</td>\n",
       "      <td>531.84</td>\n",
       "    </tr>\n",
       "    <tr>\n",
       "      <th>83777</th>\n",
       "      <td>1390_332</td>\n",
       "      <td>1390</td>\n",
       "      <td>2018-09-20</td>\n",
       "      <td>229.32</td>\n",
       "    </tr>\n",
       "    <tr>\n",
       "      <th>9964</th>\n",
       "      <td>1050_386</td>\n",
       "      <td>1050</td>\n",
       "      <td>2018-04-12</td>\n",
       "      <td>202.26</td>\n",
       "    </tr>\n",
       "    <tr>\n",
       "      <th>61924</th>\n",
       "      <td>1281_171</td>\n",
       "      <td>1281</td>\n",
       "      <td>2018-09-26</td>\n",
       "      <td>365.23</td>\n",
       "    </tr>\n",
       "    <tr>\n",
       "      <th>40169</th>\n",
       "      <td>1181_327</td>\n",
       "      <td>1181</td>\n",
       "      <td>2018-10-18</td>\n",
       "      <td>0.00</td>\n",
       "    </tr>\n",
       "    <tr>\n",
       "      <th>68133</th>\n",
       "      <td>1318_0</td>\n",
       "      <td>1318</td>\n",
       "      <td>2018-10-13</td>\n",
       "      <td>0.00</td>\n",
       "    </tr>\n",
       "  </tbody>\n",
       "</table>\n",
       "</div>"
      ],
      "text/plain": [
       "             id  user_id session_date  mb_used\n",
       "41130  1185_167     1185   2018-04-25    72.75\n",
       "20626  1095_314     1095   2018-11-08   615.20\n",
       "52825   1238_59     1238   2018-12-06   407.68\n",
       "54370  1246_271     1246   2018-03-28   372.67\n",
       "84971  1397_227     1397   2018-06-04     0.00\n",
       "46310   1206_50     1206   2018-12-16   666.08\n",
       "53826  1243_128     1243   2018-11-11   545.09\n",
       "82490  1385_241     1385   2018-06-03   127.41\n",
       "1513    1009_48     1009   2018-08-30   699.74\n",
       "21690  1099_445     1099   2018-12-13   215.56\n",
       "32750  1147_392     1147   2018-11-28   480.25\n",
       "1018     1007_2     1007   2018-10-26   341.43\n",
       "76259  1358_474     1358   2018-10-28    52.33\n",
       "83562  1390_117     1390   2018-10-26   616.76\n",
       "89012  1410_124     1410   2018-10-30   531.84\n",
       "83777  1390_332     1390   2018-09-20   229.32\n",
       "9964   1050_386     1050   2018-04-12   202.26\n",
       "61924  1281_171     1281   2018-09-26   365.23\n",
       "40169  1181_327     1181   2018-10-18     0.00\n",
       "68133    1318_0     1318   2018-10-13     0.00"
      ]
     },
     "execution_count": 75,
     "metadata": {},
     "output_type": "execute_result"
    }
   ],
   "source": [
    "df_internet_sample"
   ]
  },
  {
   "cell_type": "code",
   "execution_count": 76,
   "metadata": {},
   "outputs": [
    {
     "data": {
      "text/html": [
       "<div>\n",
       "<style scoped>\n",
       "    .dataframe tbody tr th:only-of-type {\n",
       "        vertical-align: middle;\n",
       "    }\n",
       "\n",
       "    .dataframe tbody tr th {\n",
       "        vertical-align: top;\n",
       "    }\n",
       "\n",
       "    .dataframe thead th {\n",
       "        text-align: right;\n",
       "    }\n",
       "</style>\n",
       "<table border=\"1\" class=\"dataframe\">\n",
       "  <thead>\n",
       "    <tr style=\"text-align: right;\">\n",
       "      <th></th>\n",
       "      <th>id</th>\n",
       "      <th>user_id</th>\n",
       "      <th>call_date</th>\n",
       "      <th>duration</th>\n",
       "    </tr>\n",
       "  </thead>\n",
       "  <tbody>\n",
       "    <tr>\n",
       "      <th>91897</th>\n",
       "      <td>1329_1425</td>\n",
       "      <td>1329</td>\n",
       "      <td>2018-12-17</td>\n",
       "      <td>0.00</td>\n",
       "    </tr>\n",
       "    <tr>\n",
       "      <th>130759</th>\n",
       "      <td>1470_208</td>\n",
       "      <td>1470</td>\n",
       "      <td>2018-07-12</td>\n",
       "      <td>5.76</td>\n",
       "    </tr>\n",
       "    <tr>\n",
       "      <th>7395</th>\n",
       "      <td>1035_238</td>\n",
       "      <td>1035</td>\n",
       "      <td>2018-12-17</td>\n",
       "      <td>22.03</td>\n",
       "    </tr>\n",
       "    <tr>\n",
       "      <th>66996</th>\n",
       "      <td>1240_854</td>\n",
       "      <td>1240</td>\n",
       "      <td>2018-10-17</td>\n",
       "      <td>9.27</td>\n",
       "    </tr>\n",
       "    <tr>\n",
       "      <th>27795</th>\n",
       "      <td>1106_50</td>\n",
       "      <td>1106</td>\n",
       "      <td>2018-06-26</td>\n",
       "      <td>0.00</td>\n",
       "    </tr>\n",
       "    <tr>\n",
       "      <th>128004</th>\n",
       "      <td>1459_148</td>\n",
       "      <td>1459</td>\n",
       "      <td>2018-12-17</td>\n",
       "      <td>12.32</td>\n",
       "    </tr>\n",
       "    <tr>\n",
       "      <th>26555</th>\n",
       "      <td>1100_112</td>\n",
       "      <td>1100</td>\n",
       "      <td>2018-09-29</td>\n",
       "      <td>9.63</td>\n",
       "    </tr>\n",
       "    <tr>\n",
       "      <th>95007</th>\n",
       "      <td>1336_962</td>\n",
       "      <td>1336</td>\n",
       "      <td>2018-08-28</td>\n",
       "      <td>9.17</td>\n",
       "    </tr>\n",
       "    <tr>\n",
       "      <th>5333</th>\n",
       "      <td>1024_13</td>\n",
       "      <td>1024</td>\n",
       "      <td>2018-12-24</td>\n",
       "      <td>7.04</td>\n",
       "    </tr>\n",
       "    <tr>\n",
       "      <th>124383</th>\n",
       "      <td>1439_251</td>\n",
       "      <td>1439</td>\n",
       "      <td>2018-07-28</td>\n",
       "      <td>6.78</td>\n",
       "    </tr>\n",
       "    <tr>\n",
       "      <th>86998</th>\n",
       "      <td>1320_667</td>\n",
       "      <td>1320</td>\n",
       "      <td>2018-05-12</td>\n",
       "      <td>4.79</td>\n",
       "    </tr>\n",
       "    <tr>\n",
       "      <th>57579</th>\n",
       "      <td>1206_411</td>\n",
       "      <td>1206</td>\n",
       "      <td>2018-08-10</td>\n",
       "      <td>18.73</td>\n",
       "    </tr>\n",
       "    <tr>\n",
       "      <th>9367</th>\n",
       "      <td>1042_296</td>\n",
       "      <td>1042</td>\n",
       "      <td>2018-09-21</td>\n",
       "      <td>8.46</td>\n",
       "    </tr>\n",
       "    <tr>\n",
       "      <th>89030</th>\n",
       "      <td>1324_1094</td>\n",
       "      <td>1324</td>\n",
       "      <td>2018-12-14</td>\n",
       "      <td>0.00</td>\n",
       "    </tr>\n",
       "    <tr>\n",
       "      <th>59444</th>\n",
       "      <td>1214_513</td>\n",
       "      <td>1214</td>\n",
       "      <td>2018-08-19</td>\n",
       "      <td>2.07</td>\n",
       "    </tr>\n",
       "    <tr>\n",
       "      <th>38522</th>\n",
       "      <td>1144_433</td>\n",
       "      <td>1144</td>\n",
       "      <td>2018-10-22</td>\n",
       "      <td>11.51</td>\n",
       "    </tr>\n",
       "    <tr>\n",
       "      <th>92243</th>\n",
       "      <td>1331_134</td>\n",
       "      <td>1331</td>\n",
       "      <td>2018-10-05</td>\n",
       "      <td>7.00</td>\n",
       "    </tr>\n",
       "    <tr>\n",
       "      <th>118307</th>\n",
       "      <td>1412_591</td>\n",
       "      <td>1412</td>\n",
       "      <td>2018-11-26</td>\n",
       "      <td>0.00</td>\n",
       "    </tr>\n",
       "    <tr>\n",
       "      <th>52020</th>\n",
       "      <td>1187_213</td>\n",
       "      <td>1187</td>\n",
       "      <td>2018-11-16</td>\n",
       "      <td>17.66</td>\n",
       "    </tr>\n",
       "    <tr>\n",
       "      <th>42643</th>\n",
       "      <td>1156_248</td>\n",
       "      <td>1156</td>\n",
       "      <td>2018-09-15</td>\n",
       "      <td>8.83</td>\n",
       "    </tr>\n",
       "    <tr>\n",
       "      <th>18963</th>\n",
       "      <td>1072_450</td>\n",
       "      <td>1072</td>\n",
       "      <td>2018-08-19</td>\n",
       "      <td>0.00</td>\n",
       "    </tr>\n",
       "    <tr>\n",
       "      <th>111786</th>\n",
       "      <td>1392_196</td>\n",
       "      <td>1392</td>\n",
       "      <td>2018-09-06</td>\n",
       "      <td>21.33</td>\n",
       "    </tr>\n",
       "    <tr>\n",
       "      <th>33164</th>\n",
       "      <td>1124_18</td>\n",
       "      <td>1124</td>\n",
       "      <td>2018-12-29</td>\n",
       "      <td>11.53</td>\n",
       "    </tr>\n",
       "    <tr>\n",
       "      <th>109484</th>\n",
       "      <td>1385_554</td>\n",
       "      <td>1385</td>\n",
       "      <td>2018-10-31</td>\n",
       "      <td>10.69</td>\n",
       "    </tr>\n",
       "    <tr>\n",
       "      <th>74556</th>\n",
       "      <td>1263_540</td>\n",
       "      <td>1263</td>\n",
       "      <td>2018-07-01</td>\n",
       "      <td>9.98</td>\n",
       "    </tr>\n",
       "    <tr>\n",
       "      <th>50933</th>\n",
       "      <td>1184_61</td>\n",
       "      <td>1184</td>\n",
       "      <td>2018-12-23</td>\n",
       "      <td>15.35</td>\n",
       "    </tr>\n",
       "    <tr>\n",
       "      <th>36111</th>\n",
       "      <td>1138_63</td>\n",
       "      <td>1138</td>\n",
       "      <td>2018-06-01</td>\n",
       "      <td>13.20</td>\n",
       "    </tr>\n",
       "    <tr>\n",
       "      <th>15416</th>\n",
       "      <td>1061_358</td>\n",
       "      <td>1061</td>\n",
       "      <td>2018-12-29</td>\n",
       "      <td>0.00</td>\n",
       "    </tr>\n",
       "    <tr>\n",
       "      <th>125549</th>\n",
       "      <td>1444_79</td>\n",
       "      <td>1444</td>\n",
       "      <td>2018-08-28</td>\n",
       "      <td>8.31</td>\n",
       "    </tr>\n",
       "    <tr>\n",
       "      <th>40191</th>\n",
       "      <td>1148_50</td>\n",
       "      <td>1148</td>\n",
       "      <td>2018-11-24</td>\n",
       "      <td>0.99</td>\n",
       "    </tr>\n",
       "  </tbody>\n",
       "</table>\n",
       "</div>"
      ],
      "text/plain": [
       "               id  user_id   call_date  duration\n",
       "91897   1329_1425     1329  2018-12-17      0.00\n",
       "130759   1470_208     1470  2018-07-12      5.76\n",
       "7395     1035_238     1035  2018-12-17     22.03\n",
       "66996    1240_854     1240  2018-10-17      9.27\n",
       "27795     1106_50     1106  2018-06-26      0.00\n",
       "128004   1459_148     1459  2018-12-17     12.32\n",
       "26555    1100_112     1100  2018-09-29      9.63\n",
       "95007    1336_962     1336  2018-08-28      9.17\n",
       "5333      1024_13     1024  2018-12-24      7.04\n",
       "124383   1439_251     1439  2018-07-28      6.78\n",
       "86998    1320_667     1320  2018-05-12      4.79\n",
       "57579    1206_411     1206  2018-08-10     18.73\n",
       "9367     1042_296     1042  2018-09-21      8.46\n",
       "89030   1324_1094     1324  2018-12-14      0.00\n",
       "59444    1214_513     1214  2018-08-19      2.07\n",
       "38522    1144_433     1144  2018-10-22     11.51\n",
       "92243    1331_134     1331  2018-10-05      7.00\n",
       "118307   1412_591     1412  2018-11-26      0.00\n",
       "52020    1187_213     1187  2018-11-16     17.66\n",
       "42643    1156_248     1156  2018-09-15      8.83\n",
       "18963    1072_450     1072  2018-08-19      0.00\n",
       "111786   1392_196     1392  2018-09-06     21.33\n",
       "33164     1124_18     1124  2018-12-29     11.53\n",
       "109484   1385_554     1385  2018-10-31     10.69\n",
       "74556    1263_540     1263  2018-07-01      9.98\n",
       "50933     1184_61     1184  2018-12-23     15.35\n",
       "36111     1138_63     1138  2018-06-01     13.20\n",
       "15416    1061_358     1061  2018-12-29      0.00\n",
       "125549    1444_79     1444  2018-08-28      8.31\n",
       "40191     1148_50     1148  2018-11-24      0.99"
      ]
     },
     "execution_count": 76,
     "metadata": {},
     "output_type": "execute_result"
    }
   ],
   "source": [
    "df_calls_sample"
   ]
  },
  {
   "cell_type": "code",
   "execution_count": 77,
   "metadata": {},
   "outputs": [
    {
     "data": {
      "text/html": [
       "<div>\n",
       "<style scoped>\n",
       "    .dataframe tbody tr th:only-of-type {\n",
       "        vertical-align: middle;\n",
       "    }\n",
       "\n",
       "    .dataframe tbody tr th {\n",
       "        vertical-align: top;\n",
       "    }\n",
       "\n",
       "    .dataframe thead th {\n",
       "        text-align: right;\n",
       "    }\n",
       "</style>\n",
       "<table border=\"1\" class=\"dataframe\">\n",
       "  <thead>\n",
       "    <tr style=\"text-align: right;\">\n",
       "      <th></th>\n",
       "      <th>user_id</th>\n",
       "      <th>first_name</th>\n",
       "      <th>last_name</th>\n",
       "      <th>age</th>\n",
       "      <th>city</th>\n",
       "      <th>reg_date</th>\n",
       "      <th>plan</th>\n",
       "      <th>churn_date</th>\n",
       "    </tr>\n",
       "  </thead>\n",
       "  <tbody>\n",
       "    <tr>\n",
       "      <th>371</th>\n",
       "      <td>1371</td>\n",
       "      <td>Roderick</td>\n",
       "      <td>Slater</td>\n",
       "      <td>27</td>\n",
       "      <td>Portland-Vancouver-Hillsboro, OR-WA MSA</td>\n",
       "      <td>2018-10-27</td>\n",
       "      <td>surf</td>\n",
       "      <td>NaN</td>\n",
       "    </tr>\n",
       "    <tr>\n",
       "      <th>301</th>\n",
       "      <td>1301</td>\n",
       "      <td>Tomas</td>\n",
       "      <td>Horton</td>\n",
       "      <td>64</td>\n",
       "      <td>Chicago-Naperville-Elgin, IL-IN-WI MSA</td>\n",
       "      <td>2018-01-04</td>\n",
       "      <td>ultimate</td>\n",
       "      <td>NaN</td>\n",
       "    </tr>\n",
       "    <tr>\n",
       "      <th>140</th>\n",
       "      <td>1140</td>\n",
       "      <td>Randolph</td>\n",
       "      <td>Graves</td>\n",
       "      <td>53</td>\n",
       "      <td>New York-Newark-Jersey City, NY-NJ-PA MSA</td>\n",
       "      <td>2018-03-26</td>\n",
       "      <td>surf</td>\n",
       "      <td>NaN</td>\n",
       "    </tr>\n",
       "    <tr>\n",
       "      <th>108</th>\n",
       "      <td>1108</td>\n",
       "      <td>Porfirio</td>\n",
       "      <td>Kane</td>\n",
       "      <td>45</td>\n",
       "      <td>Salt Lake City, UT MSA</td>\n",
       "      <td>2018-12-30</td>\n",
       "      <td>ultimate</td>\n",
       "      <td>NaN</td>\n",
       "    </tr>\n",
       "    <tr>\n",
       "      <th>489</th>\n",
       "      <td>1489</td>\n",
       "      <td>Londa</td>\n",
       "      <td>Jenkins</td>\n",
       "      <td>72</td>\n",
       "      <td>Detroit-Warren-Dearborn, MI MSA</td>\n",
       "      <td>2018-05-24</td>\n",
       "      <td>surf</td>\n",
       "      <td>NaN</td>\n",
       "    </tr>\n",
       "    <tr>\n",
       "      <th>85</th>\n",
       "      <td>1085</td>\n",
       "      <td>Ignacio</td>\n",
       "      <td>Bennett</td>\n",
       "      <td>48</td>\n",
       "      <td>Atlanta-Sandy Springs-Roswell, GA MSA</td>\n",
       "      <td>2018-07-19</td>\n",
       "      <td>ultimate</td>\n",
       "      <td>NaN</td>\n",
       "    </tr>\n",
       "    <tr>\n",
       "      <th>28</th>\n",
       "      <td>1028</td>\n",
       "      <td>Jefferey</td>\n",
       "      <td>Rasmussen</td>\n",
       "      <td>57</td>\n",
       "      <td>Philadelphia-Camden-Wilmington, PA-NJ-DE-MD MSA</td>\n",
       "      <td>2018-02-21</td>\n",
       "      <td>ultimate</td>\n",
       "      <td>NaN</td>\n",
       "    </tr>\n",
       "    <tr>\n",
       "      <th>148</th>\n",
       "      <td>1148</td>\n",
       "      <td>Dwana</td>\n",
       "      <td>Moore</td>\n",
       "      <td>67</td>\n",
       "      <td>Columbia, SC MSA</td>\n",
       "      <td>2018-11-04</td>\n",
       "      <td>surf</td>\n",
       "      <td>NaN</td>\n",
       "    </tr>\n",
       "    <tr>\n",
       "      <th>132</th>\n",
       "      <td>1132</td>\n",
       "      <td>Edward</td>\n",
       "      <td>Roberts</td>\n",
       "      <td>39</td>\n",
       "      <td>San Francisco-Oakland-Berkeley, CA MSA</td>\n",
       "      <td>2018-04-14</td>\n",
       "      <td>ultimate</td>\n",
       "      <td>NaN</td>\n",
       "    </tr>\n",
       "    <tr>\n",
       "      <th>276</th>\n",
       "      <td>1276</td>\n",
       "      <td>Karmen</td>\n",
       "      <td>Carney</td>\n",
       "      <td>20</td>\n",
       "      <td>Phoenix-Mesa-Chandler, AZ MSA</td>\n",
       "      <td>2018-02-14</td>\n",
       "      <td>surf</td>\n",
       "      <td>NaN</td>\n",
       "    </tr>\n",
       "  </tbody>\n",
       "</table>\n",
       "</div>"
      ],
      "text/plain": [
       "     user_id first_name  last_name  age  \\\n",
       "371     1371   Roderick     Slater   27   \n",
       "301     1301      Tomas     Horton   64   \n",
       "140     1140   Randolph     Graves   53   \n",
       "108     1108   Porfirio       Kane   45   \n",
       "489     1489      Londa    Jenkins   72   \n",
       "85      1085    Ignacio    Bennett   48   \n",
       "28      1028   Jefferey  Rasmussen   57   \n",
       "148     1148      Dwana      Moore   67   \n",
       "132     1132     Edward    Roberts   39   \n",
       "276     1276     Karmen     Carney   20   \n",
       "\n",
       "                                                city    reg_date      plan  \\\n",
       "371          Portland-Vancouver-Hillsboro, OR-WA MSA  2018-10-27      surf   \n",
       "301           Chicago-Naperville-Elgin, IL-IN-WI MSA  2018-01-04  ultimate   \n",
       "140        New York-Newark-Jersey City, NY-NJ-PA MSA  2018-03-26      surf   \n",
       "108                           Salt Lake City, UT MSA  2018-12-30  ultimate   \n",
       "489                  Detroit-Warren-Dearborn, MI MSA  2018-05-24      surf   \n",
       "85             Atlanta-Sandy Springs-Roswell, GA MSA  2018-07-19  ultimate   \n",
       "28   Philadelphia-Camden-Wilmington, PA-NJ-DE-MD MSA  2018-02-21  ultimate   \n",
       "148                                 Columbia, SC MSA  2018-11-04      surf   \n",
       "132           San Francisco-Oakland-Berkeley, CA MSA  2018-04-14  ultimate   \n",
       "276                    Phoenix-Mesa-Chandler, AZ MSA  2018-02-14      surf   \n",
       "\n",
       "    churn_date  \n",
       "371        NaN  \n",
       "301        NaN  \n",
       "140        NaN  \n",
       "108        NaN  \n",
       "489        NaN  \n",
       "85         NaN  \n",
       "28         NaN  \n",
       "148        NaN  \n",
       "132        NaN  \n",
       "276        NaN  "
      ]
     },
     "execution_count": 77,
     "metadata": {},
     "output_type": "execute_result"
    }
   ],
   "source": [
    "df_users_sample"
   ]
  },
  {
   "cell_type": "markdown",
   "metadata": {},
   "source": [
    "Como primera impresión, veo que hay distintos DF con datos iguales, datos que se repiten y algúnos que faltan. Por lo que, al desarrollar estos puntos, se debe corregir y estimo juntar los df. Hay filas que tienen datos muy similares, esto más adelante se lograra aderir como una nueva columna y crear solo un df con los datos implementados."
   ]
  },
  {
   "cell_type": "markdown",
   "metadata": {},
   "source": [
    " "
   ]
  },
  {
   "cell_type": "markdown",
   "metadata": {},
   "source": [
    "## Corregir los datos"
   ]
  },
  {
   "cell_type": "code",
   "execution_count": 78,
   "metadata": {},
   "outputs": [],
   "source": [
    "df_calls['call_date'] = pd.to_datetime(df_calls['call_date'])"
   ]
  },
  {
   "cell_type": "code",
   "execution_count": 79,
   "metadata": {},
   "outputs": [],
   "source": [
    "df_internet['session_date'] = pd.to_datetime(df_internet['session_date'])"
   ]
  },
  {
   "cell_type": "code",
   "execution_count": 80,
   "metadata": {},
   "outputs": [],
   "source": [
    "df_messages['message_date'] = pd.to_datetime(df_messages['message_date'])"
   ]
  },
  {
   "cell_type": "markdown",
   "metadata": {},
   "source": [
    "## Enriquecer los datos"
   ]
  },
  {
   "cell_type": "code",
   "execution_count": 81,
   "metadata": {},
   "outputs": [],
   "source": [
    "df_calls['call_date'] = df_calls['call_date'].dt.strftime('%Y-%m-%d')"
   ]
  },
  {
   "cell_type": "code",
   "execution_count": 82,
   "metadata": {},
   "outputs": [],
   "source": [
    "df_internet['session_date'] = df_internet['session_date'].dt.strftime('%Y-%m-%d')"
   ]
  },
  {
   "cell_type": "code",
   "execution_count": 83,
   "metadata": {},
   "outputs": [],
   "source": [
    "df_messages['message_date'] = df_messages['message_date'].dt.strftime('%Y-%m-%d')"
   ]
  },
  {
   "cell_type": "markdown",
   "metadata": {},
   "source": [
    "Se regulan la fechas de cada una de las columnas."
   ]
  },
  {
   "cell_type": "markdown",
   "metadata": {},
   "source": [
    "## Usuarios"
   ]
  },
  {
   "cell_type": "code",
   "execution_count": 84,
   "metadata": {},
   "outputs": [
    {
     "data": {
      "text/plain": [
       "user_id         0\n",
       "first_name      0\n",
       "last_name       0\n",
       "age             0\n",
       "city            0\n",
       "reg_date        0\n",
       "plan            0\n",
       "churn_date    466\n",
       "dtype: int64"
      ]
     },
     "execution_count": 84,
     "metadata": {},
     "output_type": "execute_result"
    }
   ],
   "source": [
    "df_users.isna().sum()"
   ]
  },
  {
   "cell_type": "code",
   "execution_count": 85,
   "metadata": {},
   "outputs": [
    {
     "name": "stdout",
     "output_type": "stream",
     "text": [
      "['2018-12-18', '2018-11-16', '2018-09-07', '2018-12-30', '2018-10-07', '2018-12-31', '2018-11-24', '2018-12-18', '2018-11-11', '2018-12-12', '2018-11-14', '2018-12-27', '2018-11-29', '2018-12-22', '2018-12-31', '2018-11-30', '2018-10-13', '2018-07-31', '2018-12-15', '2018-11-14', '2018-12-18', '2018-12-19', '2018-12-19', '2018-10-03', '2018-10-22', '2018-08-16', '2018-12-26', '2018-09-01', '2018-11-21', '2018-08-19', '2018-12-10', '2018-09-17', '2018-11-18', '2018-09-18']\n"
     ]
    }
   ],
   "source": [
    "not_null_churn_dates = df_users['churn_date'].dropna().tolist()\n",
    "print(not_null_churn_dates)"
   ]
  },
  {
   "cell_type": "code",
   "execution_count": 86,
   "metadata": {},
   "outputs": [
    {
     "data": {
      "text/html": [
       "<div>\n",
       "<style scoped>\n",
       "    .dataframe tbody tr th:only-of-type {\n",
       "        vertical-align: middle;\n",
       "    }\n",
       "\n",
       "    .dataframe tbody tr th {\n",
       "        vertical-align: top;\n",
       "    }\n",
       "\n",
       "    .dataframe thead th {\n",
       "        text-align: right;\n",
       "    }\n",
       "</style>\n",
       "<table border=\"1\" class=\"dataframe\">\n",
       "  <thead>\n",
       "    <tr style=\"text-align: right;\">\n",
       "      <th></th>\n",
       "      <th>user_id</th>\n",
       "      <th>first_name</th>\n",
       "      <th>last_name</th>\n",
       "      <th>age</th>\n",
       "      <th>city</th>\n",
       "      <th>reg_date</th>\n",
       "      <th>plan</th>\n",
       "      <th>churn_date</th>\n",
       "    </tr>\n",
       "  </thead>\n",
       "  <tbody>\n",
       "    <tr>\n",
       "      <th>0</th>\n",
       "      <td>1000</td>\n",
       "      <td>Anamaria</td>\n",
       "      <td>Bauer</td>\n",
       "      <td>45</td>\n",
       "      <td>Atlanta-Sandy Springs-Roswell, GA MSA</td>\n",
       "      <td>2018-12-24</td>\n",
       "      <td>ultimate</td>\n",
       "      <td>NaN</td>\n",
       "    </tr>\n",
       "    <tr>\n",
       "      <th>1</th>\n",
       "      <td>1001</td>\n",
       "      <td>Mickey</td>\n",
       "      <td>Wilkerson</td>\n",
       "      <td>28</td>\n",
       "      <td>Seattle-Tacoma-Bellevue, WA MSA</td>\n",
       "      <td>2018-08-13</td>\n",
       "      <td>surf</td>\n",
       "      <td>NaN</td>\n",
       "    </tr>\n",
       "    <tr>\n",
       "      <th>2</th>\n",
       "      <td>1002</td>\n",
       "      <td>Carlee</td>\n",
       "      <td>Hoffman</td>\n",
       "      <td>36</td>\n",
       "      <td>Las Vegas-Henderson-Paradise, NV MSA</td>\n",
       "      <td>2018-10-21</td>\n",
       "      <td>surf</td>\n",
       "      <td>NaN</td>\n",
       "    </tr>\n",
       "    <tr>\n",
       "      <th>3</th>\n",
       "      <td>1003</td>\n",
       "      <td>Reynaldo</td>\n",
       "      <td>Jenkins</td>\n",
       "      <td>52</td>\n",
       "      <td>Tulsa, OK MSA</td>\n",
       "      <td>2018-01-28</td>\n",
       "      <td>surf</td>\n",
       "      <td>NaN</td>\n",
       "    </tr>\n",
       "    <tr>\n",
       "      <th>4</th>\n",
       "      <td>1004</td>\n",
       "      <td>Leonila</td>\n",
       "      <td>Thompson</td>\n",
       "      <td>40</td>\n",
       "      <td>Seattle-Tacoma-Bellevue, WA MSA</td>\n",
       "      <td>2018-05-23</td>\n",
       "      <td>surf</td>\n",
       "      <td>NaN</td>\n",
       "    </tr>\n",
       "    <tr>\n",
       "      <th>...</th>\n",
       "      <td>...</td>\n",
       "      <td>...</td>\n",
       "      <td>...</td>\n",
       "      <td>...</td>\n",
       "      <td>...</td>\n",
       "      <td>...</td>\n",
       "      <td>...</td>\n",
       "      <td>...</td>\n",
       "    </tr>\n",
       "    <tr>\n",
       "      <th>495</th>\n",
       "      <td>1495</td>\n",
       "      <td>Fidel</td>\n",
       "      <td>Sharpe</td>\n",
       "      <td>67</td>\n",
       "      <td>New York-Newark-Jersey City, NY-NJ-PA MSA</td>\n",
       "      <td>2018-09-04</td>\n",
       "      <td>surf</td>\n",
       "      <td>NaN</td>\n",
       "    </tr>\n",
       "    <tr>\n",
       "      <th>496</th>\n",
       "      <td>1496</td>\n",
       "      <td>Ariel</td>\n",
       "      <td>Shepherd</td>\n",
       "      <td>49</td>\n",
       "      <td>New Orleans-Metairie, LA MSA</td>\n",
       "      <td>2018-02-20</td>\n",
       "      <td>surf</td>\n",
       "      <td>NaN</td>\n",
       "    </tr>\n",
       "    <tr>\n",
       "      <th>497</th>\n",
       "      <td>1497</td>\n",
       "      <td>Donte</td>\n",
       "      <td>Barrera</td>\n",
       "      <td>49</td>\n",
       "      <td>Los Angeles-Long Beach-Anaheim, CA MSA</td>\n",
       "      <td>2018-12-10</td>\n",
       "      <td>ultimate</td>\n",
       "      <td>NaN</td>\n",
       "    </tr>\n",
       "    <tr>\n",
       "      <th>498</th>\n",
       "      <td>1498</td>\n",
       "      <td>Scot</td>\n",
       "      <td>Williamson</td>\n",
       "      <td>51</td>\n",
       "      <td>New York-Newark-Jersey City, NY-NJ-PA MSA</td>\n",
       "      <td>2018-02-04</td>\n",
       "      <td>surf</td>\n",
       "      <td>NaN</td>\n",
       "    </tr>\n",
       "    <tr>\n",
       "      <th>499</th>\n",
       "      <td>1499</td>\n",
       "      <td>Shena</td>\n",
       "      <td>Dickson</td>\n",
       "      <td>37</td>\n",
       "      <td>Orlando-Kissimmee-Sanford, FL MSA</td>\n",
       "      <td>2018-05-06</td>\n",
       "      <td>surf</td>\n",
       "      <td>NaN</td>\n",
       "    </tr>\n",
       "  </tbody>\n",
       "</table>\n",
       "<p>500 rows × 8 columns</p>\n",
       "</div>"
      ],
      "text/plain": [
       "     user_id first_name   last_name  age  \\\n",
       "0       1000   Anamaria       Bauer   45   \n",
       "1       1001     Mickey   Wilkerson   28   \n",
       "2       1002     Carlee     Hoffman   36   \n",
       "3       1003   Reynaldo     Jenkins   52   \n",
       "4       1004    Leonila    Thompson   40   \n",
       "..       ...        ...         ...  ...   \n",
       "495     1495      Fidel      Sharpe   67   \n",
       "496     1496      Ariel    Shepherd   49   \n",
       "497     1497      Donte     Barrera   49   \n",
       "498     1498       Scot  Williamson   51   \n",
       "499     1499      Shena     Dickson   37   \n",
       "\n",
       "                                          city    reg_date      plan  \\\n",
       "0        Atlanta-Sandy Springs-Roswell, GA MSA  2018-12-24  ultimate   \n",
       "1              Seattle-Tacoma-Bellevue, WA MSA  2018-08-13      surf   \n",
       "2         Las Vegas-Henderson-Paradise, NV MSA  2018-10-21      surf   \n",
       "3                                Tulsa, OK MSA  2018-01-28      surf   \n",
       "4              Seattle-Tacoma-Bellevue, WA MSA  2018-05-23      surf   \n",
       "..                                         ...         ...       ...   \n",
       "495  New York-Newark-Jersey City, NY-NJ-PA MSA  2018-09-04      surf   \n",
       "496               New Orleans-Metairie, LA MSA  2018-02-20      surf   \n",
       "497     Los Angeles-Long Beach-Anaheim, CA MSA  2018-12-10  ultimate   \n",
       "498  New York-Newark-Jersey City, NY-NJ-PA MSA  2018-02-04      surf   \n",
       "499          Orlando-Kissimmee-Sanford, FL MSA  2018-05-06      surf   \n",
       "\n",
       "    churn_date  \n",
       "0          NaN  \n",
       "1          NaN  \n",
       "2          NaN  \n",
       "3          NaN  \n",
       "4          NaN  \n",
       "..         ...  \n",
       "495        NaN  \n",
       "496        NaN  \n",
       "497        NaN  \n",
       "498        NaN  \n",
       "499        NaN  \n",
       "\n",
       "[500 rows x 8 columns]"
      ]
     },
     "execution_count": 86,
     "metadata": {},
     "output_type": "execute_result"
    }
   ],
   "source": [
    "# Imprime la información general/resumen sobre el DataFrame de los usuarios\n",
    "df_users"
   ]
  },
  {
   "cell_type": "code",
   "execution_count": 87,
   "metadata": {},
   "outputs": [
    {
     "name": "stdout",
     "output_type": "stream",
     "text": [
      "     user_id first_name   last_name  age  \\\n",
      "0       1000   Anamaria       Bauer   45   \n",
      "1       1001     Mickey   Wilkerson   28   \n",
      "2       1002     Carlee     Hoffman   36   \n",
      "3       1003   Reynaldo     Jenkins   52   \n",
      "4       1004    Leonila    Thompson   40   \n",
      "..       ...        ...         ...  ...   \n",
      "495     1495      Fidel      Sharpe   67   \n",
      "496     1496      Ariel    Shepherd   49   \n",
      "497     1497      Donte     Barrera   49   \n",
      "498     1498       Scot  Williamson   51   \n",
      "499     1499      Shena     Dickson   37   \n",
      "\n",
      "                                          city    reg_date      plan  \\\n",
      "0        Atlanta-Sandy Springs-Roswell, GA MSA  2018-12-24  ultimate   \n",
      "1              Seattle-Tacoma-Bellevue, WA MSA  2018-08-13      surf   \n",
      "2         Las Vegas-Henderson-Paradise, NV MSA  2018-10-21      surf   \n",
      "3                                Tulsa, OK MSA  2018-01-28      surf   \n",
      "4              Seattle-Tacoma-Bellevue, WA MSA  2018-05-23      surf   \n",
      "..                                         ...         ...       ...   \n",
      "495  New York-Newark-Jersey City, NY-NJ-PA MSA  2018-09-04      surf   \n",
      "496               New Orleans-Metairie, LA MSA  2018-02-20      surf   \n",
      "497     Los Angeles-Long Beach-Anaheim, CA MSA  2018-12-10  ultimate   \n",
      "498  New York-Newark-Jersey City, NY-NJ-PA MSA  2018-02-04      surf   \n",
      "499          Orlando-Kissimmee-Sanford, FL MSA  2018-05-06      surf   \n",
      "\n",
      "    churn_date  \n",
      "0       activo  \n",
      "1       activo  \n",
      "2       activo  \n",
      "3       activo  \n",
      "4       activo  \n",
      "..         ...  \n",
      "495     activo  \n",
      "496     activo  \n",
      "497     activo  \n",
      "498     activo  \n",
      "499     activo  \n",
      "\n",
      "[500 rows x 8 columns]\n"
     ]
    }
   ],
   "source": [
    "# Imprime una muestra de los datos para los usuarios\n",
    "df_users.fillna(value='activo', inplace=True)\n",
    "\n",
    "print(df_users)"
   ]
  },
  {
   "cell_type": "markdown",
   "metadata": {},
   "source": [
    "Los usuarios que en la columna churms cuentan con NaN, son personas que estan con el contrato activo, y los que cuentan con fecha, son los clientes que terminaron su contrato. "
   ]
  },
  {
   "cell_type": "markdown",
   "metadata": {},
   "source": [
    " "
   ]
  },
  {
   "cell_type": "markdown",
   "metadata": {},
   "source": [
    "## Llamadas"
   ]
  },
  {
   "cell_type": "code",
   "execution_count": 88,
   "metadata": {},
   "outputs": [
    {
     "name": "stdout",
     "output_type": "stream",
     "text": [
      "      user_id    month  calls  duration\n",
      "0        1000  2018-12     16       118\n",
      "1        1001  2018-08     27       173\n",
      "2        1001  2018-09     49       299\n",
      "3        1001  2018-10     65       376\n",
      "4        1001  2018-11     64       406\n",
      "...       ...      ...    ...       ...\n",
      "2253     1498  2018-12     39       326\n",
      "2254     1499  2018-09     41       332\n",
      "2255     1499  2018-10     53       365\n",
      "2256     1499  2018-11     45       290\n",
      "2257     1499  2018-12     65       470\n",
      "\n",
      "[2258 rows x 4 columns]\n"
     ]
    }
   ],
   "source": [
    "df_calls[\"call_date\"] = pd.to_datetime(df_calls[\"call_date\"], format=\"%Y-%m-%d\")\n",
    "\n",
    "df_calls[\"month\"] = df_calls[\"call_date\"].dt.to_period(\"M\")\n",
    "\n",
    "# Agrupar por usuario y mes, y agregar las duraciones y la cantidad de llamadas\n",
    "df_calls_monthly = df_calls.groupby([\"user_id\", \"month\"]).agg(\n",
    "    calls=(\"duration\", \"count\"),\n",
    "    duration=(\"duration\", \"sum\")\n",
    ").reset_index()\n",
    "\n",
    "# Sumar 1 a la duración antes de aplicar la función ceil\n",
    "df_calls_monthly[\"duration\"] = df_calls_monthly[\"duration\"].apply(lambda x: math.ceil(x+1))\n",
    "\n",
    "# Mostrar el resultado\n",
    "print(df_calls_monthly)"
   ]
  },
  {
   "cell_type": "code",
   "execution_count": 89,
   "metadata": {},
   "outputs": [
    {
     "data": {
      "text/html": [
       "<div>\n",
       "<style scoped>\n",
       "    .dataframe tbody tr th:only-of-type {\n",
       "        vertical-align: middle;\n",
       "    }\n",
       "\n",
       "    .dataframe tbody tr th {\n",
       "        vertical-align: top;\n",
       "    }\n",
       "\n",
       "    .dataframe thead th {\n",
       "        text-align: right;\n",
       "    }\n",
       "</style>\n",
       "<table border=\"1\" class=\"dataframe\">\n",
       "  <thead>\n",
       "    <tr style=\"text-align: right;\">\n",
       "      <th></th>\n",
       "      <th>user_id</th>\n",
       "      <th>month</th>\n",
       "      <th>calls</th>\n",
       "      <th>duration</th>\n",
       "    </tr>\n",
       "  </thead>\n",
       "  <tbody>\n",
       "    <tr>\n",
       "      <th>0</th>\n",
       "      <td>1000</td>\n",
       "      <td>2018-12</td>\n",
       "      <td>16</td>\n",
       "      <td>118</td>\n",
       "    </tr>\n",
       "    <tr>\n",
       "      <th>1</th>\n",
       "      <td>1001</td>\n",
       "      <td>2018-08</td>\n",
       "      <td>27</td>\n",
       "      <td>173</td>\n",
       "    </tr>\n",
       "    <tr>\n",
       "      <th>2</th>\n",
       "      <td>1001</td>\n",
       "      <td>2018-09</td>\n",
       "      <td>49</td>\n",
       "      <td>299</td>\n",
       "    </tr>\n",
       "    <tr>\n",
       "      <th>3</th>\n",
       "      <td>1001</td>\n",
       "      <td>2018-10</td>\n",
       "      <td>65</td>\n",
       "      <td>376</td>\n",
       "    </tr>\n",
       "    <tr>\n",
       "      <th>4</th>\n",
       "      <td>1001</td>\n",
       "      <td>2018-11</td>\n",
       "      <td>64</td>\n",
       "      <td>406</td>\n",
       "    </tr>\n",
       "    <tr>\n",
       "      <th>...</th>\n",
       "      <td>...</td>\n",
       "      <td>...</td>\n",
       "      <td>...</td>\n",
       "      <td>...</td>\n",
       "    </tr>\n",
       "    <tr>\n",
       "      <th>2253</th>\n",
       "      <td>1498</td>\n",
       "      <td>2018-12</td>\n",
       "      <td>39</td>\n",
       "      <td>326</td>\n",
       "    </tr>\n",
       "    <tr>\n",
       "      <th>2254</th>\n",
       "      <td>1499</td>\n",
       "      <td>2018-09</td>\n",
       "      <td>41</td>\n",
       "      <td>332</td>\n",
       "    </tr>\n",
       "    <tr>\n",
       "      <th>2255</th>\n",
       "      <td>1499</td>\n",
       "      <td>2018-10</td>\n",
       "      <td>53</td>\n",
       "      <td>365</td>\n",
       "    </tr>\n",
       "    <tr>\n",
       "      <th>2256</th>\n",
       "      <td>1499</td>\n",
       "      <td>2018-11</td>\n",
       "      <td>45</td>\n",
       "      <td>290</td>\n",
       "    </tr>\n",
       "    <tr>\n",
       "      <th>2257</th>\n",
       "      <td>1499</td>\n",
       "      <td>2018-12</td>\n",
       "      <td>65</td>\n",
       "      <td>470</td>\n",
       "    </tr>\n",
       "  </tbody>\n",
       "</table>\n",
       "<p>2258 rows × 4 columns</p>\n",
       "</div>"
      ],
      "text/plain": [
       "      user_id    month  calls  duration\n",
       "0        1000  2018-12     16       118\n",
       "1        1001  2018-08     27       173\n",
       "2        1001  2018-09     49       299\n",
       "3        1001  2018-10     65       376\n",
       "4        1001  2018-11     64       406\n",
       "...       ...      ...    ...       ...\n",
       "2253     1498  2018-12     39       326\n",
       "2254     1499  2018-09     41       332\n",
       "2255     1499  2018-10     53       365\n",
       "2256     1499  2018-11     45       290\n",
       "2257     1499  2018-12     65       470\n",
       "\n",
       "[2258 rows x 4 columns]"
      ]
     },
     "execution_count": 89,
     "metadata": {},
     "output_type": "execute_result"
    }
   ],
   "source": [
    "df_calls_monthly"
   ]
  },
  {
   "cell_type": "markdown",
   "metadata": {},
   "source": [
    "Es posible utilizar estos datos para analizar los patrones de uso de los diferentes usuarios y hacer recomendaciones a la empresa de telefonía móvil sobre los planes y ofertas que podrían ser más adecuados para los diferentes tipos de usuarios.\n",
    "\n",
    "Algunos análisis posibles podrían incluir:\n",
    "\n",
    "Calcular la duración promedio de las llamadas por usuario y por mes.\n",
    "Identificar los usuarios que tienen patrones de uso inusualmente altos o bajos en términos de duración de llamadas y ver si hay alguna explicación para esto (por ejemplo, podrían ser usuarios empresariales que hacen muchas llamadas de trabajo).\n",
    "Comparar la duración promedio de las llamadas entre diferentes planes de telefonía móvil ofrecidos por la empresa y ver si hay alguna diferencia significativa.\n",
    "Analizar cómo varía la duración promedio de las llamadas a lo largo del tiempo y ver si hay alguna tendencia o patrón estacional. Adicionalmente, se redondea hacia arriba la columna de la duración de las llamadas."
   ]
  },
  {
   "cell_type": "markdown",
   "metadata": {},
   "source": [
    "## Mensajes"
   ]
  },
  {
   "cell_type": "code",
   "execution_count": 90,
   "metadata": {},
   "outputs": [
    {
     "name": "stdout",
     "output_type": "stream",
     "text": [
      "   user_id    month  message_count\n",
      "0     1000  2018-12             11\n",
      "1     1001  2018-08             30\n",
      "2     1001  2018-09             44\n",
      "3     1001  2018-10             53\n",
      "4     1001  2018-11             36\n"
     ]
    }
   ],
   "source": [
    "df_messages[\"message_date\"] = pd.to_datetime(df_messages[\"message_date\"])\n",
    "\n",
    "# Crear una nueva columna \"message_month\" que contenga el mes y el año de la fecha\n",
    "df_messages[\"month\"] = df_messages[\"message_date\"].dt.to_period(\"M\")\n",
    "\n",
    "# Agrupar los datos por \"user_id\" y \"message_month\" y agregar una nueva columna que cuente la cantidad de mensajes enviados por cada usuario en cada mes.\n",
    "df_messages_grouped = df_messages.groupby([\"user_id\", \"month\"]).size().reset_index(name=\"message_count\")\n",
    "\n",
    "# Mostrar los resultados\n",
    "print(df_messages_grouped.head())"
   ]
  },
  {
   "cell_type": "code",
   "execution_count": 91,
   "metadata": {},
   "outputs": [
    {
     "data": {
      "text/html": [
       "<div>\n",
       "<style scoped>\n",
       "    .dataframe tbody tr th:only-of-type {\n",
       "        vertical-align: middle;\n",
       "    }\n",
       "\n",
       "    .dataframe tbody tr th {\n",
       "        vertical-align: top;\n",
       "    }\n",
       "\n",
       "    .dataframe thead th {\n",
       "        text-align: right;\n",
       "    }\n",
       "</style>\n",
       "<table border=\"1\" class=\"dataframe\">\n",
       "  <thead>\n",
       "    <tr style=\"text-align: right;\">\n",
       "      <th></th>\n",
       "      <th>user_id</th>\n",
       "      <th>month</th>\n",
       "      <th>message_count</th>\n",
       "    </tr>\n",
       "  </thead>\n",
       "  <tbody>\n",
       "    <tr>\n",
       "      <th>0</th>\n",
       "      <td>1000</td>\n",
       "      <td>2018-12</td>\n",
       "      <td>11</td>\n",
       "    </tr>\n",
       "    <tr>\n",
       "      <th>1</th>\n",
       "      <td>1001</td>\n",
       "      <td>2018-08</td>\n",
       "      <td>30</td>\n",
       "    </tr>\n",
       "    <tr>\n",
       "      <th>2</th>\n",
       "      <td>1001</td>\n",
       "      <td>2018-09</td>\n",
       "      <td>44</td>\n",
       "    </tr>\n",
       "    <tr>\n",
       "      <th>3</th>\n",
       "      <td>1001</td>\n",
       "      <td>2018-10</td>\n",
       "      <td>53</td>\n",
       "    </tr>\n",
       "    <tr>\n",
       "      <th>4</th>\n",
       "      <td>1001</td>\n",
       "      <td>2018-11</td>\n",
       "      <td>36</td>\n",
       "    </tr>\n",
       "    <tr>\n",
       "      <th>...</th>\n",
       "      <td>...</td>\n",
       "      <td>...</td>\n",
       "      <td>...</td>\n",
       "    </tr>\n",
       "    <tr>\n",
       "      <th>1801</th>\n",
       "      <td>1496</td>\n",
       "      <td>2018-09</td>\n",
       "      <td>21</td>\n",
       "    </tr>\n",
       "    <tr>\n",
       "      <th>1802</th>\n",
       "      <td>1496</td>\n",
       "      <td>2018-10</td>\n",
       "      <td>18</td>\n",
       "    </tr>\n",
       "    <tr>\n",
       "      <th>1803</th>\n",
       "      <td>1496</td>\n",
       "      <td>2018-11</td>\n",
       "      <td>13</td>\n",
       "    </tr>\n",
       "    <tr>\n",
       "      <th>1804</th>\n",
       "      <td>1496</td>\n",
       "      <td>2018-12</td>\n",
       "      <td>11</td>\n",
       "    </tr>\n",
       "    <tr>\n",
       "      <th>1805</th>\n",
       "      <td>1497</td>\n",
       "      <td>2018-12</td>\n",
       "      <td>50</td>\n",
       "    </tr>\n",
       "  </tbody>\n",
       "</table>\n",
       "<p>1806 rows × 3 columns</p>\n",
       "</div>"
      ],
      "text/plain": [
       "      user_id    month  message_count\n",
       "0        1000  2018-12             11\n",
       "1        1001  2018-08             30\n",
       "2        1001  2018-09             44\n",
       "3        1001  2018-10             53\n",
       "4        1001  2018-11             36\n",
       "...       ...      ...            ...\n",
       "1801     1496  2018-09             21\n",
       "1802     1496  2018-10             18\n",
       "1803     1496  2018-11             13\n",
       "1804     1496  2018-12             11\n",
       "1805     1497  2018-12             50\n",
       "\n",
       "[1806 rows x 3 columns]"
      ]
     },
     "execution_count": 91,
     "metadata": {},
     "output_type": "execute_result"
    }
   ],
   "source": [
    "df_messages_grouped"
   ]
  },
  {
   "cell_type": "markdown",
   "metadata": {},
   "source": [
    "Es posible utilizar estos datos para analizar los patrones de uso de los diferentes usuarios y hacer recomendaciones a la empresa de telefonía móvil sobre los planes y ofertas que podrían ser más adecuados para los diferentes tipos de usuarios."
   ]
  },
  {
   "cell_type": "markdown",
   "metadata": {},
   "source": [
    "## Internet"
   ]
  },
  {
   "cell_type": "code",
   "execution_count": 92,
   "metadata": {},
   "outputs": [
    {
     "name": "stdout",
     "output_type": "stream",
     "text": [
      "   user_id    month  mb_used_month  gb_used_month\n",
      "0     1000  2018-12        1901.47            2.0\n",
      "1     1001  2018-08        6919.15            7.0\n",
      "2     1001  2018-09       13314.82           14.0\n",
      "3     1001  2018-10       22330.49           22.0\n",
      "4     1001  2018-11       18504.30           19.0\n"
     ]
    }
   ],
   "source": [
    "df_internet[\"session_date\"] = pd.to_datetime(df_internet[\"session_date\"])\n",
    "\n",
    "df_internet[\"session_month\"] = df_internet[\"session_date\"].dt.to_period(\"M\")\n",
    "\n",
    "# Agrupar los datos por \"user_id\" y \"session_month\" y agregar una nueva columna que sume la cantidad de MB utilizados por cada usuario en cada mes.\n",
    "df_internet_grouped = df_internet.groupby([\"user_id\", \"session_month\"])[\"mb_used\"].sum().reset_index(name=\"mb_used_month\")\n",
    "\n",
    "# Convertir los MB en GB y redondear hacia arriba\n",
    "df_internet_grouped[\"gb_used_month\"] = np.ceil(df_internet_grouped[\"mb_used_month\"] / 1024)\n",
    "\n",
    "# Cambiar los nombres de las columnas y reiniciar el índice\n",
    "df_internet_grouped = df_internet_grouped.rename(columns={\"user_id\": \"user_id\", \"session_month\": \"month\"}).reset_index(drop=True)\n",
    "\n",
    "print(df_internet_grouped.head())"
   ]
  },
  {
   "cell_type": "code",
   "execution_count": 94,
   "metadata": {},
   "outputs": [
    {
     "data": {
      "text/html": [
       "<div>\n",
       "<style scoped>\n",
       "    .dataframe tbody tr th:only-of-type {\n",
       "        vertical-align: middle;\n",
       "    }\n",
       "\n",
       "    .dataframe tbody tr th {\n",
       "        vertical-align: top;\n",
       "    }\n",
       "\n",
       "    .dataframe thead th {\n",
       "        text-align: right;\n",
       "    }\n",
       "</style>\n",
       "<table border=\"1\" class=\"dataframe\">\n",
       "  <thead>\n",
       "    <tr style=\"text-align: right;\">\n",
       "      <th></th>\n",
       "      <th>user_id</th>\n",
       "      <th>month</th>\n",
       "      <th>mb_used_month</th>\n",
       "      <th>gb_used_month</th>\n",
       "    </tr>\n",
       "  </thead>\n",
       "  <tbody>\n",
       "    <tr>\n",
       "      <th>0</th>\n",
       "      <td>1000</td>\n",
       "      <td>2018-12</td>\n",
       "      <td>1901.47</td>\n",
       "      <td>2.0</td>\n",
       "    </tr>\n",
       "    <tr>\n",
       "      <th>1</th>\n",
       "      <td>1001</td>\n",
       "      <td>2018-08</td>\n",
       "      <td>6919.15</td>\n",
       "      <td>7.0</td>\n",
       "    </tr>\n",
       "    <tr>\n",
       "      <th>2</th>\n",
       "      <td>1001</td>\n",
       "      <td>2018-09</td>\n",
       "      <td>13314.82</td>\n",
       "      <td>14.0</td>\n",
       "    </tr>\n",
       "    <tr>\n",
       "      <th>3</th>\n",
       "      <td>1001</td>\n",
       "      <td>2018-10</td>\n",
       "      <td>22330.49</td>\n",
       "      <td>22.0</td>\n",
       "    </tr>\n",
       "    <tr>\n",
       "      <th>4</th>\n",
       "      <td>1001</td>\n",
       "      <td>2018-11</td>\n",
       "      <td>18504.30</td>\n",
       "      <td>19.0</td>\n",
       "    </tr>\n",
       "    <tr>\n",
       "      <th>...</th>\n",
       "      <td>...</td>\n",
       "      <td>...</td>\n",
       "      <td>...</td>\n",
       "      <td>...</td>\n",
       "    </tr>\n",
       "    <tr>\n",
       "      <th>2272</th>\n",
       "      <td>1498</td>\n",
       "      <td>2018-12</td>\n",
       "      <td>23137.69</td>\n",
       "      <td>23.0</td>\n",
       "    </tr>\n",
       "    <tr>\n",
       "      <th>2273</th>\n",
       "      <td>1499</td>\n",
       "      <td>2018-09</td>\n",
       "      <td>12984.76</td>\n",
       "      <td>13.0</td>\n",
       "    </tr>\n",
       "    <tr>\n",
       "      <th>2274</th>\n",
       "      <td>1499</td>\n",
       "      <td>2018-10</td>\n",
       "      <td>19492.43</td>\n",
       "      <td>20.0</td>\n",
       "    </tr>\n",
       "    <tr>\n",
       "      <th>2275</th>\n",
       "      <td>1499</td>\n",
       "      <td>2018-11</td>\n",
       "      <td>16813.83</td>\n",
       "      <td>17.0</td>\n",
       "    </tr>\n",
       "    <tr>\n",
       "      <th>2276</th>\n",
       "      <td>1499</td>\n",
       "      <td>2018-12</td>\n",
       "      <td>22059.21</td>\n",
       "      <td>22.0</td>\n",
       "    </tr>\n",
       "  </tbody>\n",
       "</table>\n",
       "<p>2277 rows × 4 columns</p>\n",
       "</div>"
      ],
      "text/plain": [
       "      user_id    month  mb_used_month  gb_used_month\n",
       "0        1000  2018-12        1901.47            2.0\n",
       "1        1001  2018-08        6919.15            7.0\n",
       "2        1001  2018-09       13314.82           14.0\n",
       "3        1001  2018-10       22330.49           22.0\n",
       "4        1001  2018-11       18504.30           19.0\n",
       "...       ...      ...            ...            ...\n",
       "2272     1498  2018-12       23137.69           23.0\n",
       "2273     1499  2018-09       12984.76           13.0\n",
       "2274     1499  2018-10       19492.43           20.0\n",
       "2275     1499  2018-11       16813.83           17.0\n",
       "2276     1499  2018-12       22059.21           22.0\n",
       "\n",
       "[2277 rows x 4 columns]"
      ]
     },
     "execution_count": 94,
     "metadata": {},
     "output_type": "execute_result"
    }
   ],
   "source": [
    "df_internet_grouped"
   ]
  },
  {
   "cell_type": "markdown",
   "metadata": {},
   "source": [
    "Estos datos muestran el uso de datos móviles (en MB) de diferentes usuarios durante diferentes meses. Podrían ser utilizados para analizar los patrones de uso de datos móviles de los usuarios y hacer recomendaciones a la empresa de telefonía móvil sobre los planes y ofertas que podrían ser más adecuados para los diferentes tipos de usuarios.\n",
    "\n",
    "Por ejemplo, si se encuentra que un grupo de usuarios utiliza una cantidad significativamente mayor de datos móviles que otros usuarios, la empresa de telefonía móvil podría ofrecer un plan que incluya más datos móviles o un paquete de datos adicionales para atraer a esos usuarios. Además, si se encuentra que un número significativo de usuarios están utilizando solo una pequeña cantidad de datos móviles, la empresa podría ofrecer un plan más económico que se ajuste a sus necesidades y les permita ahorrar en sus facturas mensuales.\n",
    "\n",
    "Se transforma la columna de megas a gigas dividiendo entre 1024."
   ]
  },
  {
   "cell_type": "markdown",
   "metadata": {},
   "source": [
    "## Estudiar las condiciones del plan"
   ]
  },
  {
   "cell_type": "code",
   "execution_count": 95,
   "metadata": {},
   "outputs": [
    {
     "data": {
      "text/html": [
       "<div>\n",
       "<style scoped>\n",
       "    .dataframe tbody tr th:only-of-type {\n",
       "        vertical-align: middle;\n",
       "    }\n",
       "\n",
       "    .dataframe tbody tr th {\n",
       "        vertical-align: top;\n",
       "    }\n",
       "\n",
       "    .dataframe thead th {\n",
       "        text-align: right;\n",
       "    }\n",
       "</style>\n",
       "<table border=\"1\" class=\"dataframe\">\n",
       "  <thead>\n",
       "    <tr style=\"text-align: right;\">\n",
       "      <th></th>\n",
       "      <th>user_id</th>\n",
       "      <th>first_name</th>\n",
       "      <th>last_name</th>\n",
       "      <th>age</th>\n",
       "      <th>city</th>\n",
       "      <th>reg_date</th>\n",
       "      <th>plan</th>\n",
       "      <th>churn_date</th>\n",
       "    </tr>\n",
       "  </thead>\n",
       "  <tbody>\n",
       "    <tr>\n",
       "      <th>0</th>\n",
       "      <td>1000</td>\n",
       "      <td>Anamaria</td>\n",
       "      <td>Bauer</td>\n",
       "      <td>45</td>\n",
       "      <td>Atlanta-Sandy Springs-Roswell, GA MSA</td>\n",
       "      <td>2018-12-24</td>\n",
       "      <td>ultimate</td>\n",
       "      <td>activo</td>\n",
       "    </tr>\n",
       "    <tr>\n",
       "      <th>1</th>\n",
       "      <td>1001</td>\n",
       "      <td>Mickey</td>\n",
       "      <td>Wilkerson</td>\n",
       "      <td>28</td>\n",
       "      <td>Seattle-Tacoma-Bellevue, WA MSA</td>\n",
       "      <td>2018-08-13</td>\n",
       "      <td>surf</td>\n",
       "      <td>activo</td>\n",
       "    </tr>\n",
       "    <tr>\n",
       "      <th>2</th>\n",
       "      <td>1002</td>\n",
       "      <td>Carlee</td>\n",
       "      <td>Hoffman</td>\n",
       "      <td>36</td>\n",
       "      <td>Las Vegas-Henderson-Paradise, NV MSA</td>\n",
       "      <td>2018-10-21</td>\n",
       "      <td>surf</td>\n",
       "      <td>activo</td>\n",
       "    </tr>\n",
       "    <tr>\n",
       "      <th>3</th>\n",
       "      <td>1003</td>\n",
       "      <td>Reynaldo</td>\n",
       "      <td>Jenkins</td>\n",
       "      <td>52</td>\n",
       "      <td>Tulsa, OK MSA</td>\n",
       "      <td>2018-01-28</td>\n",
       "      <td>surf</td>\n",
       "      <td>activo</td>\n",
       "    </tr>\n",
       "    <tr>\n",
       "      <th>4</th>\n",
       "      <td>1004</td>\n",
       "      <td>Leonila</td>\n",
       "      <td>Thompson</td>\n",
       "      <td>40</td>\n",
       "      <td>Seattle-Tacoma-Bellevue, WA MSA</td>\n",
       "      <td>2018-05-23</td>\n",
       "      <td>surf</td>\n",
       "      <td>activo</td>\n",
       "    </tr>\n",
       "    <tr>\n",
       "      <th>...</th>\n",
       "      <td>...</td>\n",
       "      <td>...</td>\n",
       "      <td>...</td>\n",
       "      <td>...</td>\n",
       "      <td>...</td>\n",
       "      <td>...</td>\n",
       "      <td>...</td>\n",
       "      <td>...</td>\n",
       "    </tr>\n",
       "    <tr>\n",
       "      <th>495</th>\n",
       "      <td>1495</td>\n",
       "      <td>Fidel</td>\n",
       "      <td>Sharpe</td>\n",
       "      <td>67</td>\n",
       "      <td>New York-Newark-Jersey City, NY-NJ-PA MSA</td>\n",
       "      <td>2018-09-04</td>\n",
       "      <td>surf</td>\n",
       "      <td>activo</td>\n",
       "    </tr>\n",
       "    <tr>\n",
       "      <th>496</th>\n",
       "      <td>1496</td>\n",
       "      <td>Ariel</td>\n",
       "      <td>Shepherd</td>\n",
       "      <td>49</td>\n",
       "      <td>New Orleans-Metairie, LA MSA</td>\n",
       "      <td>2018-02-20</td>\n",
       "      <td>surf</td>\n",
       "      <td>activo</td>\n",
       "    </tr>\n",
       "    <tr>\n",
       "      <th>497</th>\n",
       "      <td>1497</td>\n",
       "      <td>Donte</td>\n",
       "      <td>Barrera</td>\n",
       "      <td>49</td>\n",
       "      <td>Los Angeles-Long Beach-Anaheim, CA MSA</td>\n",
       "      <td>2018-12-10</td>\n",
       "      <td>ultimate</td>\n",
       "      <td>activo</td>\n",
       "    </tr>\n",
       "    <tr>\n",
       "      <th>498</th>\n",
       "      <td>1498</td>\n",
       "      <td>Scot</td>\n",
       "      <td>Williamson</td>\n",
       "      <td>51</td>\n",
       "      <td>New York-Newark-Jersey City, NY-NJ-PA MSA</td>\n",
       "      <td>2018-02-04</td>\n",
       "      <td>surf</td>\n",
       "      <td>activo</td>\n",
       "    </tr>\n",
       "    <tr>\n",
       "      <th>499</th>\n",
       "      <td>1499</td>\n",
       "      <td>Shena</td>\n",
       "      <td>Dickson</td>\n",
       "      <td>37</td>\n",
       "      <td>Orlando-Kissimmee-Sanford, FL MSA</td>\n",
       "      <td>2018-05-06</td>\n",
       "      <td>surf</td>\n",
       "      <td>activo</td>\n",
       "    </tr>\n",
       "  </tbody>\n",
       "</table>\n",
       "<p>500 rows × 8 columns</p>\n",
       "</div>"
      ],
      "text/plain": [
       "     user_id first_name   last_name  age  \\\n",
       "0       1000   Anamaria       Bauer   45   \n",
       "1       1001     Mickey   Wilkerson   28   \n",
       "2       1002     Carlee     Hoffman   36   \n",
       "3       1003   Reynaldo     Jenkins   52   \n",
       "4       1004    Leonila    Thompson   40   \n",
       "..       ...        ...         ...  ...   \n",
       "495     1495      Fidel      Sharpe   67   \n",
       "496     1496      Ariel    Shepherd   49   \n",
       "497     1497      Donte     Barrera   49   \n",
       "498     1498       Scot  Williamson   51   \n",
       "499     1499      Shena     Dickson   37   \n",
       "\n",
       "                                          city    reg_date      plan  \\\n",
       "0        Atlanta-Sandy Springs-Roswell, GA MSA  2018-12-24  ultimate   \n",
       "1              Seattle-Tacoma-Bellevue, WA MSA  2018-08-13      surf   \n",
       "2         Las Vegas-Henderson-Paradise, NV MSA  2018-10-21      surf   \n",
       "3                                Tulsa, OK MSA  2018-01-28      surf   \n",
       "4              Seattle-Tacoma-Bellevue, WA MSA  2018-05-23      surf   \n",
       "..                                         ...         ...       ...   \n",
       "495  New York-Newark-Jersey City, NY-NJ-PA MSA  2018-09-04      surf   \n",
       "496               New Orleans-Metairie, LA MSA  2018-02-20      surf   \n",
       "497     Los Angeles-Long Beach-Anaheim, CA MSA  2018-12-10  ultimate   \n",
       "498  New York-Newark-Jersey City, NY-NJ-PA MSA  2018-02-04      surf   \n",
       "499          Orlando-Kissimmee-Sanford, FL MSA  2018-05-06      surf   \n",
       "\n",
       "    churn_date  \n",
       "0       activo  \n",
       "1       activo  \n",
       "2       activo  \n",
       "3       activo  \n",
       "4       activo  \n",
       "..         ...  \n",
       "495     activo  \n",
       "496     activo  \n",
       "497     activo  \n",
       "498     activo  \n",
       "499     activo  \n",
       "\n",
       "[500 rows x 8 columns]"
      ]
     },
     "execution_count": 95,
     "metadata": {},
     "output_type": "execute_result"
    }
   ],
   "source": [
    "df_users"
   ]
  },
  {
   "cell_type": "code",
   "execution_count": 96,
   "metadata": {
    "scrolled": true
   },
   "outputs": [
    {
     "data": {
      "text/html": [
       "<div>\n",
       "<style scoped>\n",
       "    .dataframe tbody tr th:only-of-type {\n",
       "        vertical-align: middle;\n",
       "    }\n",
       "\n",
       "    .dataframe tbody tr th {\n",
       "        vertical-align: top;\n",
       "    }\n",
       "\n",
       "    .dataframe thead th {\n",
       "        text-align: right;\n",
       "    }\n",
       "</style>\n",
       "<table border=\"1\" class=\"dataframe\">\n",
       "  <thead>\n",
       "    <tr style=\"text-align: right;\">\n",
       "      <th></th>\n",
       "      <th>messages_included</th>\n",
       "      <th>mb_per_month_included</th>\n",
       "      <th>minutes_included</th>\n",
       "      <th>usd_monthly_pay</th>\n",
       "      <th>usd_per_gb</th>\n",
       "      <th>usd_per_message</th>\n",
       "      <th>usd_per_minute</th>\n",
       "      <th>plan_name</th>\n",
       "    </tr>\n",
       "  </thead>\n",
       "  <tbody>\n",
       "    <tr>\n",
       "      <th>0</th>\n",
       "      <td>50</td>\n",
       "      <td>15360</td>\n",
       "      <td>500</td>\n",
       "      <td>20</td>\n",
       "      <td>10</td>\n",
       "      <td>0.03</td>\n",
       "      <td>0.03</td>\n",
       "      <td>surf</td>\n",
       "    </tr>\n",
       "    <tr>\n",
       "      <th>1</th>\n",
       "      <td>1000</td>\n",
       "      <td>30720</td>\n",
       "      <td>3000</td>\n",
       "      <td>70</td>\n",
       "      <td>7</td>\n",
       "      <td>0.01</td>\n",
       "      <td>0.01</td>\n",
       "      <td>ultimate</td>\n",
       "    </tr>\n",
       "  </tbody>\n",
       "</table>\n",
       "</div>"
      ],
      "text/plain": [
       "   messages_included  mb_per_month_included  minutes_included  \\\n",
       "0                 50                  15360               500   \n",
       "1               1000                  30720              3000   \n",
       "\n",
       "   usd_monthly_pay  usd_per_gb  usd_per_message  usd_per_minute plan_name  \n",
       "0               20          10             0.03            0.03      surf  \n",
       "1               70           7             0.01            0.01  ultimate  "
      ]
     },
     "execution_count": 96,
     "metadata": {},
     "output_type": "execute_result"
    }
   ],
   "source": [
    "df_plans"
   ]
  },
  {
   "cell_type": "markdown",
   "metadata": {},
   "source": [
    "Estos datos muestran los detalles de los planes ofrecidos por una empresa de telefonía móvil. Incluyen información como los mensajes, la cantidad de datos y los minutos incluidos en el plan, el precio mensual, así como los precios por GB de datos adicionales, mensajes adicionales y minutos adicionales. Estos datos son útiles para comparar los diferentes planes ofrecidos por la empresa y tomar decisiones informadas sobre qué plan elegir."
   ]
  },
  {
   "cell_type": "markdown",
   "metadata": {},
   "source": [
    "## Agregar datos por usuario\n"
   ]
  },
  {
   "cell_type": "code",
   "execution_count": 97,
   "metadata": {},
   "outputs": [],
   "source": [
    "df_merged = df_calls_monthly.merge(df_internet_grouped, on=['user_id', 'month'], how='outer')\n",
    "df_merged = df_merged.merge(df_messages_grouped, on=['user_id', 'month'], how='outer')"
   ]
  },
  {
   "cell_type": "code",
   "execution_count": 98,
   "metadata": {},
   "outputs": [
    {
     "data": {
      "text/html": [
       "<div>\n",
       "<style scoped>\n",
       "    .dataframe tbody tr th:only-of-type {\n",
       "        vertical-align: middle;\n",
       "    }\n",
       "\n",
       "    .dataframe tbody tr th {\n",
       "        vertical-align: top;\n",
       "    }\n",
       "\n",
       "    .dataframe thead th {\n",
       "        text-align: right;\n",
       "    }\n",
       "</style>\n",
       "<table border=\"1\" class=\"dataframe\">\n",
       "  <thead>\n",
       "    <tr style=\"text-align: right;\">\n",
       "      <th></th>\n",
       "      <th>user_id</th>\n",
       "      <th>month</th>\n",
       "      <th>calls</th>\n",
       "      <th>duration</th>\n",
       "      <th>mb_used_month</th>\n",
       "      <th>gb_used_month</th>\n",
       "      <th>message_count</th>\n",
       "    </tr>\n",
       "  </thead>\n",
       "  <tbody>\n",
       "    <tr>\n",
       "      <th>0</th>\n",
       "      <td>1000</td>\n",
       "      <td>2018-12</td>\n",
       "      <td>16.0</td>\n",
       "      <td>118.0</td>\n",
       "      <td>1901.47</td>\n",
       "      <td>2.0</td>\n",
       "      <td>11.0</td>\n",
       "    </tr>\n",
       "    <tr>\n",
       "      <th>1</th>\n",
       "      <td>1001</td>\n",
       "      <td>2018-08</td>\n",
       "      <td>27.0</td>\n",
       "      <td>173.0</td>\n",
       "      <td>6919.15</td>\n",
       "      <td>7.0</td>\n",
       "      <td>30.0</td>\n",
       "    </tr>\n",
       "    <tr>\n",
       "      <th>2</th>\n",
       "      <td>1001</td>\n",
       "      <td>2018-09</td>\n",
       "      <td>49.0</td>\n",
       "      <td>299.0</td>\n",
       "      <td>13314.82</td>\n",
       "      <td>14.0</td>\n",
       "      <td>44.0</td>\n",
       "    </tr>\n",
       "    <tr>\n",
       "      <th>3</th>\n",
       "      <td>1001</td>\n",
       "      <td>2018-10</td>\n",
       "      <td>65.0</td>\n",
       "      <td>376.0</td>\n",
       "      <td>22330.49</td>\n",
       "      <td>22.0</td>\n",
       "      <td>53.0</td>\n",
       "    </tr>\n",
       "    <tr>\n",
       "      <th>4</th>\n",
       "      <td>1001</td>\n",
       "      <td>2018-11</td>\n",
       "      <td>64.0</td>\n",
       "      <td>406.0</td>\n",
       "      <td>18504.30</td>\n",
       "      <td>19.0</td>\n",
       "      <td>36.0</td>\n",
       "    </tr>\n",
       "    <tr>\n",
       "      <th>...</th>\n",
       "      <td>...</td>\n",
       "      <td>...</td>\n",
       "      <td>...</td>\n",
       "      <td>...</td>\n",
       "      <td>...</td>\n",
       "      <td>...</td>\n",
       "      <td>...</td>\n",
       "    </tr>\n",
       "    <tr>\n",
       "      <th>2288</th>\n",
       "      <td>1349</td>\n",
       "      <td>2018-10</td>\n",
       "      <td>NaN</td>\n",
       "      <td>NaN</td>\n",
       "      <td>13093.55</td>\n",
       "      <td>13.0</td>\n",
       "      <td>76.0</td>\n",
       "    </tr>\n",
       "    <tr>\n",
       "      <th>2289</th>\n",
       "      <td>1349</td>\n",
       "      <td>2018-11</td>\n",
       "      <td>NaN</td>\n",
       "      <td>NaN</td>\n",
       "      <td>17128.26</td>\n",
       "      <td>17.0</td>\n",
       "      <td>72.0</td>\n",
       "    </tr>\n",
       "    <tr>\n",
       "      <th>2290</th>\n",
       "      <td>1349</td>\n",
       "      <td>2018-12</td>\n",
       "      <td>NaN</td>\n",
       "      <td>NaN</td>\n",
       "      <td>13039.91</td>\n",
       "      <td>13.0</td>\n",
       "      <td>61.0</td>\n",
       "    </tr>\n",
       "    <tr>\n",
       "      <th>2291</th>\n",
       "      <td>1361</td>\n",
       "      <td>2018-05</td>\n",
       "      <td>NaN</td>\n",
       "      <td>NaN</td>\n",
       "      <td>1519.69</td>\n",
       "      <td>2.0</td>\n",
       "      <td>2.0</td>\n",
       "    </tr>\n",
       "    <tr>\n",
       "      <th>2292</th>\n",
       "      <td>1482</td>\n",
       "      <td>2018-10</td>\n",
       "      <td>NaN</td>\n",
       "      <td>NaN</td>\n",
       "      <td>NaN</td>\n",
       "      <td>NaN</td>\n",
       "      <td>2.0</td>\n",
       "    </tr>\n",
       "  </tbody>\n",
       "</table>\n",
       "<p>2293 rows × 7 columns</p>\n",
       "</div>"
      ],
      "text/plain": [
       "      user_id    month  calls  duration  mb_used_month  gb_used_month  \\\n",
       "0        1000  2018-12   16.0     118.0        1901.47            2.0   \n",
       "1        1001  2018-08   27.0     173.0        6919.15            7.0   \n",
       "2        1001  2018-09   49.0     299.0       13314.82           14.0   \n",
       "3        1001  2018-10   65.0     376.0       22330.49           22.0   \n",
       "4        1001  2018-11   64.0     406.0       18504.30           19.0   \n",
       "...       ...      ...    ...       ...            ...            ...   \n",
       "2288     1349  2018-10    NaN       NaN       13093.55           13.0   \n",
       "2289     1349  2018-11    NaN       NaN       17128.26           17.0   \n",
       "2290     1349  2018-12    NaN       NaN       13039.91           13.0   \n",
       "2291     1361  2018-05    NaN       NaN        1519.69            2.0   \n",
       "2292     1482  2018-10    NaN       NaN            NaN            NaN   \n",
       "\n",
       "      message_count  \n",
       "0              11.0  \n",
       "1              30.0  \n",
       "2              44.0  \n",
       "3              53.0  \n",
       "4              36.0  \n",
       "...             ...  \n",
       "2288           76.0  \n",
       "2289           72.0  \n",
       "2290           61.0  \n",
       "2291            2.0  \n",
       "2292            2.0  \n",
       "\n",
       "[2293 rows x 7 columns]"
      ]
     },
     "execution_count": 98,
     "metadata": {},
     "output_type": "execute_result"
    }
   ],
   "source": [
    "df_merged"
   ]
  },
  {
   "cell_type": "code",
   "execution_count": 99,
   "metadata": {},
   "outputs": [],
   "source": [
    "df_final = pd.merge(df_users, df_merged, on='user_id', how='outer')"
   ]
  },
  {
   "cell_type": "code",
   "execution_count": 100,
   "metadata": {},
   "outputs": [],
   "source": [
    "df_final['message_count'] = df_final['message_count'].fillna(0)\n",
    "df_final['duration'] = df_final['duration'].fillna(0)\n",
    "df_final['gb_used_month'] = df_final['gb_used_month'].fillna(0)"
   ]
  },
  {
   "cell_type": "code",
   "execution_count": 101,
   "metadata": {},
   "outputs": [],
   "source": [
    "df_final = df_final.drop(columns=['first_name', 'last_name', 'age', \"mb_used_month\"])"
   ]
  },
  {
   "cell_type": "code",
   "execution_count": 102,
   "metadata": {},
   "outputs": [
    {
     "data": {
      "text/html": [
       "<div>\n",
       "<style scoped>\n",
       "    .dataframe tbody tr th:only-of-type {\n",
       "        vertical-align: middle;\n",
       "    }\n",
       "\n",
       "    .dataframe tbody tr th {\n",
       "        vertical-align: top;\n",
       "    }\n",
       "\n",
       "    .dataframe thead th {\n",
       "        text-align: right;\n",
       "    }\n",
       "</style>\n",
       "<table border=\"1\" class=\"dataframe\">\n",
       "  <thead>\n",
       "    <tr style=\"text-align: right;\">\n",
       "      <th></th>\n",
       "      <th>user_id</th>\n",
       "      <th>city</th>\n",
       "      <th>reg_date</th>\n",
       "      <th>plan</th>\n",
       "      <th>churn_date</th>\n",
       "      <th>month</th>\n",
       "      <th>calls</th>\n",
       "      <th>duration</th>\n",
       "      <th>gb_used_month</th>\n",
       "      <th>message_count</th>\n",
       "    </tr>\n",
       "  </thead>\n",
       "  <tbody>\n",
       "    <tr>\n",
       "      <th>0</th>\n",
       "      <td>1000</td>\n",
       "      <td>Atlanta-Sandy Springs-Roswell, GA MSA</td>\n",
       "      <td>2018-12-24</td>\n",
       "      <td>ultimate</td>\n",
       "      <td>activo</td>\n",
       "      <td>2018-12</td>\n",
       "      <td>16.0</td>\n",
       "      <td>118.0</td>\n",
       "      <td>2.0</td>\n",
       "      <td>11.0</td>\n",
       "    </tr>\n",
       "    <tr>\n",
       "      <th>1</th>\n",
       "      <td>1001</td>\n",
       "      <td>Seattle-Tacoma-Bellevue, WA MSA</td>\n",
       "      <td>2018-08-13</td>\n",
       "      <td>surf</td>\n",
       "      <td>activo</td>\n",
       "      <td>2018-08</td>\n",
       "      <td>27.0</td>\n",
       "      <td>173.0</td>\n",
       "      <td>7.0</td>\n",
       "      <td>30.0</td>\n",
       "    </tr>\n",
       "    <tr>\n",
       "      <th>2</th>\n",
       "      <td>1001</td>\n",
       "      <td>Seattle-Tacoma-Bellevue, WA MSA</td>\n",
       "      <td>2018-08-13</td>\n",
       "      <td>surf</td>\n",
       "      <td>activo</td>\n",
       "      <td>2018-09</td>\n",
       "      <td>49.0</td>\n",
       "      <td>299.0</td>\n",
       "      <td>14.0</td>\n",
       "      <td>44.0</td>\n",
       "    </tr>\n",
       "    <tr>\n",
       "      <th>3</th>\n",
       "      <td>1001</td>\n",
       "      <td>Seattle-Tacoma-Bellevue, WA MSA</td>\n",
       "      <td>2018-08-13</td>\n",
       "      <td>surf</td>\n",
       "      <td>activo</td>\n",
       "      <td>2018-10</td>\n",
       "      <td>65.0</td>\n",
       "      <td>376.0</td>\n",
       "      <td>22.0</td>\n",
       "      <td>53.0</td>\n",
       "    </tr>\n",
       "    <tr>\n",
       "      <th>4</th>\n",
       "      <td>1001</td>\n",
       "      <td>Seattle-Tacoma-Bellevue, WA MSA</td>\n",
       "      <td>2018-08-13</td>\n",
       "      <td>surf</td>\n",
       "      <td>activo</td>\n",
       "      <td>2018-11</td>\n",
       "      <td>64.0</td>\n",
       "      <td>406.0</td>\n",
       "      <td>19.0</td>\n",
       "      <td>36.0</td>\n",
       "    </tr>\n",
       "    <tr>\n",
       "      <th>...</th>\n",
       "      <td>...</td>\n",
       "      <td>...</td>\n",
       "      <td>...</td>\n",
       "      <td>...</td>\n",
       "      <td>...</td>\n",
       "      <td>...</td>\n",
       "      <td>...</td>\n",
       "      <td>...</td>\n",
       "      <td>...</td>\n",
       "      <td>...</td>\n",
       "    </tr>\n",
       "    <tr>\n",
       "      <th>2298</th>\n",
       "      <td>1498</td>\n",
       "      <td>New York-Newark-Jersey City, NY-NJ-PA MSA</td>\n",
       "      <td>2018-02-04</td>\n",
       "      <td>surf</td>\n",
       "      <td>activo</td>\n",
       "      <td>2018-12</td>\n",
       "      <td>39.0</td>\n",
       "      <td>326.0</td>\n",
       "      <td>23.0</td>\n",
       "      <td>0.0</td>\n",
       "    </tr>\n",
       "    <tr>\n",
       "      <th>2299</th>\n",
       "      <td>1499</td>\n",
       "      <td>Orlando-Kissimmee-Sanford, FL MSA</td>\n",
       "      <td>2018-05-06</td>\n",
       "      <td>surf</td>\n",
       "      <td>activo</td>\n",
       "      <td>2018-09</td>\n",
       "      <td>41.0</td>\n",
       "      <td>332.0</td>\n",
       "      <td>13.0</td>\n",
       "      <td>0.0</td>\n",
       "    </tr>\n",
       "    <tr>\n",
       "      <th>2300</th>\n",
       "      <td>1499</td>\n",
       "      <td>Orlando-Kissimmee-Sanford, FL MSA</td>\n",
       "      <td>2018-05-06</td>\n",
       "      <td>surf</td>\n",
       "      <td>activo</td>\n",
       "      <td>2018-10</td>\n",
       "      <td>53.0</td>\n",
       "      <td>365.0</td>\n",
       "      <td>20.0</td>\n",
       "      <td>0.0</td>\n",
       "    </tr>\n",
       "    <tr>\n",
       "      <th>2301</th>\n",
       "      <td>1499</td>\n",
       "      <td>Orlando-Kissimmee-Sanford, FL MSA</td>\n",
       "      <td>2018-05-06</td>\n",
       "      <td>surf</td>\n",
       "      <td>activo</td>\n",
       "      <td>2018-11</td>\n",
       "      <td>45.0</td>\n",
       "      <td>290.0</td>\n",
       "      <td>17.0</td>\n",
       "      <td>0.0</td>\n",
       "    </tr>\n",
       "    <tr>\n",
       "      <th>2302</th>\n",
       "      <td>1499</td>\n",
       "      <td>Orlando-Kissimmee-Sanford, FL MSA</td>\n",
       "      <td>2018-05-06</td>\n",
       "      <td>surf</td>\n",
       "      <td>activo</td>\n",
       "      <td>2018-12</td>\n",
       "      <td>65.0</td>\n",
       "      <td>470.0</td>\n",
       "      <td>22.0</td>\n",
       "      <td>0.0</td>\n",
       "    </tr>\n",
       "  </tbody>\n",
       "</table>\n",
       "<p>2303 rows × 10 columns</p>\n",
       "</div>"
      ],
      "text/plain": [
       "      user_id                                       city    reg_date  \\\n",
       "0        1000      Atlanta-Sandy Springs-Roswell, GA MSA  2018-12-24   \n",
       "1        1001            Seattle-Tacoma-Bellevue, WA MSA  2018-08-13   \n",
       "2        1001            Seattle-Tacoma-Bellevue, WA MSA  2018-08-13   \n",
       "3        1001            Seattle-Tacoma-Bellevue, WA MSA  2018-08-13   \n",
       "4        1001            Seattle-Tacoma-Bellevue, WA MSA  2018-08-13   \n",
       "...       ...                                        ...         ...   \n",
       "2298     1498  New York-Newark-Jersey City, NY-NJ-PA MSA  2018-02-04   \n",
       "2299     1499          Orlando-Kissimmee-Sanford, FL MSA  2018-05-06   \n",
       "2300     1499          Orlando-Kissimmee-Sanford, FL MSA  2018-05-06   \n",
       "2301     1499          Orlando-Kissimmee-Sanford, FL MSA  2018-05-06   \n",
       "2302     1499          Orlando-Kissimmee-Sanford, FL MSA  2018-05-06   \n",
       "\n",
       "          plan churn_date    month  calls  duration  gb_used_month  \\\n",
       "0     ultimate     activo  2018-12   16.0     118.0            2.0   \n",
       "1         surf     activo  2018-08   27.0     173.0            7.0   \n",
       "2         surf     activo  2018-09   49.0     299.0           14.0   \n",
       "3         surf     activo  2018-10   65.0     376.0           22.0   \n",
       "4         surf     activo  2018-11   64.0     406.0           19.0   \n",
       "...        ...        ...      ...    ...       ...            ...   \n",
       "2298      surf     activo  2018-12   39.0     326.0           23.0   \n",
       "2299      surf     activo  2018-09   41.0     332.0           13.0   \n",
       "2300      surf     activo  2018-10   53.0     365.0           20.0   \n",
       "2301      surf     activo  2018-11   45.0     290.0           17.0   \n",
       "2302      surf     activo  2018-12   65.0     470.0           22.0   \n",
       "\n",
       "      message_count  \n",
       "0              11.0  \n",
       "1              30.0  \n",
       "2              44.0  \n",
       "3              53.0  \n",
       "4              36.0  \n",
       "...             ...  \n",
       "2298            0.0  \n",
       "2299            0.0  \n",
       "2300            0.0  \n",
       "2301            0.0  \n",
       "2302            0.0  \n",
       "\n",
       "[2303 rows x 10 columns]"
      ]
     },
     "execution_count": 102,
     "metadata": {},
     "output_type": "execute_result"
    }
   ],
   "source": [
    "df_final"
   ]
  },
  {
   "cell_type": "code",
   "execution_count": 103,
   "metadata": {},
   "outputs": [],
   "source": [
    "def calculate_total_cost(df_final, df_plans):\n",
    "    # unir los dos dataframes\n",
    "    df = pd.merge(df_final, df_plans, left_on='plan', right_on='plan_name')\n",
    "\n",
    "    # verificar si se pasó en los minutos incluidos\n",
    "    df['minutes_included_exceeded'] = (df['duration'] > df['minutes_included'])\n",
    "    \n",
    "    # calcular el costo adicional de los minutos extra\n",
    "    df['cost_minutes_exceeded'] = (df['duration'] - df['minutes_included']) * df['usd_per_minute']\n",
    "    df['cost_minutes_exceeded'] = df['cost_minutes_exceeded'].apply(lambda x: 0 if x < 0 else x)\n",
    "    \n",
    "    # calcular el costo de gb_used_month\n",
    "    df['cost_gb_used_month'] = (df['gb_used_month'] - df['mb_per_month_included']/1024) * df['usd_per_gb']\n",
    "    df['cost_gb_used_month'] = df['cost_gb_used_month'].apply(lambda x: 0 if x < 0 else x) # no cobrar si gb_used_month es menor que mb_per_month_included\n",
    "    \n",
    "    # calcular el costo de message_count\n",
    "    df['cost_message_count'] = (df['message_count'] - df['messages_included']) * df['usd_per_message']\n",
    "    df['cost_message_count'] = df['cost_message_count'].apply(lambda x: 0 if x < 0 else x) # no cobrar si message_count es menor que messages_included\n",
    "\n",
    "    # calcular el costo total\n",
    "    df['total_cost'] = df['cost_gb_used_month'] + df['cost_message_count'] + df['cost_minutes_exceeded'] + df['usd_monthly_pay']\n",
    "\n",
    "    return df\n",
    "\n",
    "df_final_total_cost = calculate_total_cost(df_final, df_plans)"
   ]
  },
  {
   "cell_type": "code",
   "execution_count": 104,
   "metadata": {},
   "outputs": [
    {
     "data": {
      "text/html": [
       "<div>\n",
       "<style scoped>\n",
       "    .dataframe tbody tr th:only-of-type {\n",
       "        vertical-align: middle;\n",
       "    }\n",
       "\n",
       "    .dataframe tbody tr th {\n",
       "        vertical-align: top;\n",
       "    }\n",
       "\n",
       "    .dataframe thead th {\n",
       "        text-align: right;\n",
       "    }\n",
       "</style>\n",
       "<table border=\"1\" class=\"dataframe\">\n",
       "  <thead>\n",
       "    <tr style=\"text-align: right;\">\n",
       "      <th></th>\n",
       "      <th>user_id</th>\n",
       "      <th>city</th>\n",
       "      <th>reg_date</th>\n",
       "      <th>plan</th>\n",
       "      <th>churn_date</th>\n",
       "      <th>month</th>\n",
       "      <th>calls</th>\n",
       "      <th>duration</th>\n",
       "      <th>gb_used_month</th>\n",
       "      <th>message_count</th>\n",
       "      <th>...</th>\n",
       "      <th>usd_monthly_pay</th>\n",
       "      <th>usd_per_gb</th>\n",
       "      <th>usd_per_message</th>\n",
       "      <th>usd_per_minute</th>\n",
       "      <th>plan_name</th>\n",
       "      <th>minutes_included_exceeded</th>\n",
       "      <th>cost_minutes_exceeded</th>\n",
       "      <th>cost_gb_used_month</th>\n",
       "      <th>cost_message_count</th>\n",
       "      <th>total_cost</th>\n",
       "    </tr>\n",
       "  </thead>\n",
       "  <tbody>\n",
       "    <tr>\n",
       "      <th>0</th>\n",
       "      <td>1000</td>\n",
       "      <td>Atlanta-Sandy Springs-Roswell, GA MSA</td>\n",
       "      <td>2018-12-24</td>\n",
       "      <td>ultimate</td>\n",
       "      <td>activo</td>\n",
       "      <td>2018-12</td>\n",
       "      <td>16.0</td>\n",
       "      <td>118.0</td>\n",
       "      <td>2.0</td>\n",
       "      <td>11.0</td>\n",
       "      <td>...</td>\n",
       "      <td>70</td>\n",
       "      <td>7</td>\n",
       "      <td>0.01</td>\n",
       "      <td>0.01</td>\n",
       "      <td>ultimate</td>\n",
       "      <td>False</td>\n",
       "      <td>0.0</td>\n",
       "      <td>0.0</td>\n",
       "      <td>0.00</td>\n",
       "      <td>70.00</td>\n",
       "    </tr>\n",
       "    <tr>\n",
       "      <th>726</th>\n",
       "      <td>1001</td>\n",
       "      <td>Seattle-Tacoma-Bellevue, WA MSA</td>\n",
       "      <td>2018-08-13</td>\n",
       "      <td>surf</td>\n",
       "      <td>activo</td>\n",
       "      <td>2018-10</td>\n",
       "      <td>65.0</td>\n",
       "      <td>376.0</td>\n",
       "      <td>22.0</td>\n",
       "      <td>53.0</td>\n",
       "      <td>...</td>\n",
       "      <td>20</td>\n",
       "      <td>10</td>\n",
       "      <td>0.03</td>\n",
       "      <td>0.03</td>\n",
       "      <td>surf</td>\n",
       "      <td>False</td>\n",
       "      <td>0.0</td>\n",
       "      <td>70.0</td>\n",
       "      <td>0.09</td>\n",
       "      <td>90.09</td>\n",
       "    </tr>\n",
       "    <tr>\n",
       "      <th>727</th>\n",
       "      <td>1001</td>\n",
       "      <td>Seattle-Tacoma-Bellevue, WA MSA</td>\n",
       "      <td>2018-08-13</td>\n",
       "      <td>surf</td>\n",
       "      <td>activo</td>\n",
       "      <td>2018-11</td>\n",
       "      <td>64.0</td>\n",
       "      <td>406.0</td>\n",
       "      <td>19.0</td>\n",
       "      <td>36.0</td>\n",
       "      <td>...</td>\n",
       "      <td>20</td>\n",
       "      <td>10</td>\n",
       "      <td>0.03</td>\n",
       "      <td>0.03</td>\n",
       "      <td>surf</td>\n",
       "      <td>False</td>\n",
       "      <td>0.0</td>\n",
       "      <td>40.0</td>\n",
       "      <td>0.00</td>\n",
       "      <td>60.00</td>\n",
       "    </tr>\n",
       "    <tr>\n",
       "      <th>728</th>\n",
       "      <td>1001</td>\n",
       "      <td>Seattle-Tacoma-Bellevue, WA MSA</td>\n",
       "      <td>2018-08-13</td>\n",
       "      <td>surf</td>\n",
       "      <td>activo</td>\n",
       "      <td>2018-12</td>\n",
       "      <td>56.0</td>\n",
       "      <td>394.0</td>\n",
       "      <td>19.0</td>\n",
       "      <td>44.0</td>\n",
       "      <td>...</td>\n",
       "      <td>20</td>\n",
       "      <td>10</td>\n",
       "      <td>0.03</td>\n",
       "      <td>0.03</td>\n",
       "      <td>surf</td>\n",
       "      <td>False</td>\n",
       "      <td>0.0</td>\n",
       "      <td>40.0</td>\n",
       "      <td>0.00</td>\n",
       "      <td>60.00</td>\n",
       "    </tr>\n",
       "    <tr>\n",
       "      <th>725</th>\n",
       "      <td>1001</td>\n",
       "      <td>Seattle-Tacoma-Bellevue, WA MSA</td>\n",
       "      <td>2018-08-13</td>\n",
       "      <td>surf</td>\n",
       "      <td>activo</td>\n",
       "      <td>2018-09</td>\n",
       "      <td>49.0</td>\n",
       "      <td>299.0</td>\n",
       "      <td>14.0</td>\n",
       "      <td>44.0</td>\n",
       "      <td>...</td>\n",
       "      <td>20</td>\n",
       "      <td>10</td>\n",
       "      <td>0.03</td>\n",
       "      <td>0.03</td>\n",
       "      <td>surf</td>\n",
       "      <td>False</td>\n",
       "      <td>0.0</td>\n",
       "      <td>0.0</td>\n",
       "      <td>0.00</td>\n",
       "      <td>20.00</td>\n",
       "    </tr>\n",
       "  </tbody>\n",
       "</table>\n",
       "<p>5 rows × 23 columns</p>\n",
       "</div>"
      ],
      "text/plain": [
       "     user_id                                   city    reg_date      plan  \\\n",
       "0       1000  Atlanta-Sandy Springs-Roswell, GA MSA  2018-12-24  ultimate   \n",
       "726     1001        Seattle-Tacoma-Bellevue, WA MSA  2018-08-13      surf   \n",
       "727     1001        Seattle-Tacoma-Bellevue, WA MSA  2018-08-13      surf   \n",
       "728     1001        Seattle-Tacoma-Bellevue, WA MSA  2018-08-13      surf   \n",
       "725     1001        Seattle-Tacoma-Bellevue, WA MSA  2018-08-13      surf   \n",
       "\n",
       "    churn_date    month  calls  duration  gb_used_month  message_count  ...  \\\n",
       "0       activo  2018-12   16.0     118.0            2.0           11.0  ...   \n",
       "726     activo  2018-10   65.0     376.0           22.0           53.0  ...   \n",
       "727     activo  2018-11   64.0     406.0           19.0           36.0  ...   \n",
       "728     activo  2018-12   56.0     394.0           19.0           44.0  ...   \n",
       "725     activo  2018-09   49.0     299.0           14.0           44.0  ...   \n",
       "\n",
       "     usd_monthly_pay  usd_per_gb  usd_per_message  usd_per_minute  plan_name  \\\n",
       "0                 70           7             0.01            0.01   ultimate   \n",
       "726               20          10             0.03            0.03       surf   \n",
       "727               20          10             0.03            0.03       surf   \n",
       "728               20          10             0.03            0.03       surf   \n",
       "725               20          10             0.03            0.03       surf   \n",
       "\n",
       "     minutes_included_exceeded  cost_minutes_exceeded cost_gb_used_month  \\\n",
       "0                        False                    0.0                0.0   \n",
       "726                      False                    0.0               70.0   \n",
       "727                      False                    0.0               40.0   \n",
       "728                      False                    0.0               40.0   \n",
       "725                      False                    0.0                0.0   \n",
       "\n",
       "     cost_message_count  total_cost  \n",
       "0                  0.00       70.00  \n",
       "726                0.09       90.09  \n",
       "727                0.00       60.00  \n",
       "728                0.00       60.00  \n",
       "725                0.00       20.00  \n",
       "\n",
       "[5 rows x 23 columns]"
      ]
     },
     "execution_count": 104,
     "metadata": {},
     "output_type": "execute_result"
    }
   ],
   "source": [
    "df_final_total_cost.sort_values(by='user_id').head()"
   ]
  },
  {
   "cell_type": "markdown",
   "metadata": {},
   "source": [
    "La operacion esta realizada para los 3 ambitos. llamadas, mensajes y gb. Supongo que para realizar los planes, este debe ser:\n",
    "\n",
    "El plan tiene x cantidad que se puede utilizar al mes, si se utiliza la x cantidad dependiendo del plan que utiliza el cliente.\n",
    "\n",
    "En caso de que este pase la cantidad establecida por el plan, este debe pagar más, se suman los exedentes según los precios de los planes."
   ]
  },
  {
   "cell_type": "code",
   "execution_count": 105,
   "metadata": {},
   "outputs": [],
   "source": [
    "df_final_total_cost = df_final_total_cost.drop(columns=[\"messages_included\", \"minutes_included\", \"usd_monthly_pay\", \"usd_per_gb\", \"usd_per_message\", \"usd_per_minute\", \"mb_per_month_included\", \"plan_name\"])"
   ]
  },
  {
   "cell_type": "code",
   "execution_count": 106,
   "metadata": {},
   "outputs": [
    {
     "data": {
      "text/html": [
       "<div>\n",
       "<style scoped>\n",
       "    .dataframe tbody tr th:only-of-type {\n",
       "        vertical-align: middle;\n",
       "    }\n",
       "\n",
       "    .dataframe tbody tr th {\n",
       "        vertical-align: top;\n",
       "    }\n",
       "\n",
       "    .dataframe thead th {\n",
       "        text-align: right;\n",
       "    }\n",
       "</style>\n",
       "<table border=\"1\" class=\"dataframe\">\n",
       "  <thead>\n",
       "    <tr style=\"text-align: right;\">\n",
       "      <th></th>\n",
       "      <th>user_id</th>\n",
       "      <th>city</th>\n",
       "      <th>reg_date</th>\n",
       "      <th>plan</th>\n",
       "      <th>churn_date</th>\n",
       "      <th>month</th>\n",
       "      <th>calls</th>\n",
       "      <th>duration</th>\n",
       "      <th>gb_used_month</th>\n",
       "      <th>message_count</th>\n",
       "      <th>minutes_included_exceeded</th>\n",
       "      <th>cost_minutes_exceeded</th>\n",
       "      <th>cost_gb_used_month</th>\n",
       "      <th>cost_message_count</th>\n",
       "      <th>total_cost</th>\n",
       "    </tr>\n",
       "  </thead>\n",
       "  <tbody>\n",
       "    <tr>\n",
       "      <th>0</th>\n",
       "      <td>1000</td>\n",
       "      <td>Atlanta-Sandy Springs-Roswell, GA MSA</td>\n",
       "      <td>2018-12-24</td>\n",
       "      <td>ultimate</td>\n",
       "      <td>activo</td>\n",
       "      <td>2018-12</td>\n",
       "      <td>16.0</td>\n",
       "      <td>118.0</td>\n",
       "      <td>2.0</td>\n",
       "      <td>11.0</td>\n",
       "      <td>False</td>\n",
       "      <td>0.0</td>\n",
       "      <td>0.0</td>\n",
       "      <td>0.00</td>\n",
       "      <td>70.00</td>\n",
       "    </tr>\n",
       "    <tr>\n",
       "      <th>726</th>\n",
       "      <td>1001</td>\n",
       "      <td>Seattle-Tacoma-Bellevue, WA MSA</td>\n",
       "      <td>2018-08-13</td>\n",
       "      <td>surf</td>\n",
       "      <td>activo</td>\n",
       "      <td>2018-10</td>\n",
       "      <td>65.0</td>\n",
       "      <td>376.0</td>\n",
       "      <td>22.0</td>\n",
       "      <td>53.0</td>\n",
       "      <td>False</td>\n",
       "      <td>0.0</td>\n",
       "      <td>70.0</td>\n",
       "      <td>0.09</td>\n",
       "      <td>90.09</td>\n",
       "    </tr>\n",
       "    <tr>\n",
       "      <th>727</th>\n",
       "      <td>1001</td>\n",
       "      <td>Seattle-Tacoma-Bellevue, WA MSA</td>\n",
       "      <td>2018-08-13</td>\n",
       "      <td>surf</td>\n",
       "      <td>activo</td>\n",
       "      <td>2018-11</td>\n",
       "      <td>64.0</td>\n",
       "      <td>406.0</td>\n",
       "      <td>19.0</td>\n",
       "      <td>36.0</td>\n",
       "      <td>False</td>\n",
       "      <td>0.0</td>\n",
       "      <td>40.0</td>\n",
       "      <td>0.00</td>\n",
       "      <td>60.00</td>\n",
       "    </tr>\n",
       "    <tr>\n",
       "      <th>728</th>\n",
       "      <td>1001</td>\n",
       "      <td>Seattle-Tacoma-Bellevue, WA MSA</td>\n",
       "      <td>2018-08-13</td>\n",
       "      <td>surf</td>\n",
       "      <td>activo</td>\n",
       "      <td>2018-12</td>\n",
       "      <td>56.0</td>\n",
       "      <td>394.0</td>\n",
       "      <td>19.0</td>\n",
       "      <td>44.0</td>\n",
       "      <td>False</td>\n",
       "      <td>0.0</td>\n",
       "      <td>40.0</td>\n",
       "      <td>0.00</td>\n",
       "      <td>60.00</td>\n",
       "    </tr>\n",
       "    <tr>\n",
       "      <th>725</th>\n",
       "      <td>1001</td>\n",
       "      <td>Seattle-Tacoma-Bellevue, WA MSA</td>\n",
       "      <td>2018-08-13</td>\n",
       "      <td>surf</td>\n",
       "      <td>activo</td>\n",
       "      <td>2018-09</td>\n",
       "      <td>49.0</td>\n",
       "      <td>299.0</td>\n",
       "      <td>14.0</td>\n",
       "      <td>44.0</td>\n",
       "      <td>False</td>\n",
       "      <td>0.0</td>\n",
       "      <td>0.0</td>\n",
       "      <td>0.00</td>\n",
       "      <td>20.00</td>\n",
       "    </tr>\n",
       "    <tr>\n",
       "      <th>...</th>\n",
       "      <td>...</td>\n",
       "      <td>...</td>\n",
       "      <td>...</td>\n",
       "      <td>...</td>\n",
       "      <td>...</td>\n",
       "      <td>...</td>\n",
       "      <td>...</td>\n",
       "      <td>...</td>\n",
       "      <td>...</td>\n",
       "      <td>...</td>\n",
       "      <td>...</td>\n",
       "      <td>...</td>\n",
       "      <td>...</td>\n",
       "      <td>...</td>\n",
       "      <td>...</td>\n",
       "    </tr>\n",
       "    <tr>\n",
       "      <th>2297</th>\n",
       "      <td>1498</td>\n",
       "      <td>New York-Newark-Jersey City, NY-NJ-PA MSA</td>\n",
       "      <td>2018-02-04</td>\n",
       "      <td>surf</td>\n",
       "      <td>activo</td>\n",
       "      <td>2018-11</td>\n",
       "      <td>41.0</td>\n",
       "      <td>210.0</td>\n",
       "      <td>19.0</td>\n",
       "      <td>0.0</td>\n",
       "      <td>False</td>\n",
       "      <td>0.0</td>\n",
       "      <td>40.0</td>\n",
       "      <td>0.00</td>\n",
       "      <td>60.00</td>\n",
       "    </tr>\n",
       "    <tr>\n",
       "      <th>2300</th>\n",
       "      <td>1499</td>\n",
       "      <td>Orlando-Kissimmee-Sanford, FL MSA</td>\n",
       "      <td>2018-05-06</td>\n",
       "      <td>surf</td>\n",
       "      <td>activo</td>\n",
       "      <td>2018-10</td>\n",
       "      <td>53.0</td>\n",
       "      <td>365.0</td>\n",
       "      <td>20.0</td>\n",
       "      <td>0.0</td>\n",
       "      <td>False</td>\n",
       "      <td>0.0</td>\n",
       "      <td>50.0</td>\n",
       "      <td>0.00</td>\n",
       "      <td>70.00</td>\n",
       "    </tr>\n",
       "    <tr>\n",
       "      <th>2301</th>\n",
       "      <td>1499</td>\n",
       "      <td>Orlando-Kissimmee-Sanford, FL MSA</td>\n",
       "      <td>2018-05-06</td>\n",
       "      <td>surf</td>\n",
       "      <td>activo</td>\n",
       "      <td>2018-11</td>\n",
       "      <td>45.0</td>\n",
       "      <td>290.0</td>\n",
       "      <td>17.0</td>\n",
       "      <td>0.0</td>\n",
       "      <td>False</td>\n",
       "      <td>0.0</td>\n",
       "      <td>20.0</td>\n",
       "      <td>0.00</td>\n",
       "      <td>40.00</td>\n",
       "    </tr>\n",
       "    <tr>\n",
       "      <th>2299</th>\n",
       "      <td>1499</td>\n",
       "      <td>Orlando-Kissimmee-Sanford, FL MSA</td>\n",
       "      <td>2018-05-06</td>\n",
       "      <td>surf</td>\n",
       "      <td>activo</td>\n",
       "      <td>2018-09</td>\n",
       "      <td>41.0</td>\n",
       "      <td>332.0</td>\n",
       "      <td>13.0</td>\n",
       "      <td>0.0</td>\n",
       "      <td>False</td>\n",
       "      <td>0.0</td>\n",
       "      <td>0.0</td>\n",
       "      <td>0.00</td>\n",
       "      <td>20.00</td>\n",
       "    </tr>\n",
       "    <tr>\n",
       "      <th>2302</th>\n",
       "      <td>1499</td>\n",
       "      <td>Orlando-Kissimmee-Sanford, FL MSA</td>\n",
       "      <td>2018-05-06</td>\n",
       "      <td>surf</td>\n",
       "      <td>activo</td>\n",
       "      <td>2018-12</td>\n",
       "      <td>65.0</td>\n",
       "      <td>470.0</td>\n",
       "      <td>22.0</td>\n",
       "      <td>0.0</td>\n",
       "      <td>False</td>\n",
       "      <td>0.0</td>\n",
       "      <td>70.0</td>\n",
       "      <td>0.00</td>\n",
       "      <td>90.00</td>\n",
       "    </tr>\n",
       "  </tbody>\n",
       "</table>\n",
       "<p>2303 rows × 15 columns</p>\n",
       "</div>"
      ],
      "text/plain": [
       "      user_id                                       city    reg_date  \\\n",
       "0        1000      Atlanta-Sandy Springs-Roswell, GA MSA  2018-12-24   \n",
       "726      1001            Seattle-Tacoma-Bellevue, WA MSA  2018-08-13   \n",
       "727      1001            Seattle-Tacoma-Bellevue, WA MSA  2018-08-13   \n",
       "728      1001            Seattle-Tacoma-Bellevue, WA MSA  2018-08-13   \n",
       "725      1001            Seattle-Tacoma-Bellevue, WA MSA  2018-08-13   \n",
       "...       ...                                        ...         ...   \n",
       "2297     1498  New York-Newark-Jersey City, NY-NJ-PA MSA  2018-02-04   \n",
       "2300     1499          Orlando-Kissimmee-Sanford, FL MSA  2018-05-06   \n",
       "2301     1499          Orlando-Kissimmee-Sanford, FL MSA  2018-05-06   \n",
       "2299     1499          Orlando-Kissimmee-Sanford, FL MSA  2018-05-06   \n",
       "2302     1499          Orlando-Kissimmee-Sanford, FL MSA  2018-05-06   \n",
       "\n",
       "          plan churn_date    month  calls  duration  gb_used_month  \\\n",
       "0     ultimate     activo  2018-12   16.0     118.0            2.0   \n",
       "726       surf     activo  2018-10   65.0     376.0           22.0   \n",
       "727       surf     activo  2018-11   64.0     406.0           19.0   \n",
       "728       surf     activo  2018-12   56.0     394.0           19.0   \n",
       "725       surf     activo  2018-09   49.0     299.0           14.0   \n",
       "...        ...        ...      ...    ...       ...            ...   \n",
       "2297      surf     activo  2018-11   41.0     210.0           19.0   \n",
       "2300      surf     activo  2018-10   53.0     365.0           20.0   \n",
       "2301      surf     activo  2018-11   45.0     290.0           17.0   \n",
       "2299      surf     activo  2018-09   41.0     332.0           13.0   \n",
       "2302      surf     activo  2018-12   65.0     470.0           22.0   \n",
       "\n",
       "      message_count  minutes_included_exceeded  cost_minutes_exceeded  \\\n",
       "0              11.0                      False                    0.0   \n",
       "726            53.0                      False                    0.0   \n",
       "727            36.0                      False                    0.0   \n",
       "728            44.0                      False                    0.0   \n",
       "725            44.0                      False                    0.0   \n",
       "...             ...                        ...                    ...   \n",
       "2297            0.0                      False                    0.0   \n",
       "2300            0.0                      False                    0.0   \n",
       "2301            0.0                      False                    0.0   \n",
       "2299            0.0                      False                    0.0   \n",
       "2302            0.0                      False                    0.0   \n",
       "\n",
       "      cost_gb_used_month  cost_message_count  total_cost  \n",
       "0                    0.0                0.00       70.00  \n",
       "726                 70.0                0.09       90.09  \n",
       "727                 40.0                0.00       60.00  \n",
       "728                 40.0                0.00       60.00  \n",
       "725                  0.0                0.00       20.00  \n",
       "...                  ...                 ...         ...  \n",
       "2297                40.0                0.00       60.00  \n",
       "2300                50.0                0.00       70.00  \n",
       "2301                20.0                0.00       40.00  \n",
       "2299                 0.0                0.00       20.00  \n",
       "2302                70.0                0.00       90.00  \n",
       "\n",
       "[2303 rows x 15 columns]"
      ]
     },
     "execution_count": 106,
     "metadata": {},
     "output_type": "execute_result"
    }
   ],
   "source": [
    "df_final_total_cost.sort_values(by='user_id')"
   ]
  },
  {
   "cell_type": "markdown",
   "metadata": {},
   "source": [
    "Se corrige este punto, donde se el codigo ahora toma si es false o true si este se pasa del plan para cobrarle los excedentes. Tambien se corrige los puntos de llamadas."
   ]
  },
  {
   "cell_type": "markdown",
   "metadata": {},
   "source": [
    "<div class=\"alert alert-block alert-danger\">\n",
    "<b>Comentario del revisor #4</b> <a class=\"tocSkip\"></a>\n",
    "\n",
    "Te dejé un comentario adicional que seguramente nos dará la solución al problema.\n",
    "</div>"
   ]
  },
  {
   "cell_type": "markdown",
   "metadata": {},
   "source": [
    "## Estudia el comportamiento del usuario"
   ]
  },
  {
   "cell_type": "code",
   "execution_count": 107,
   "metadata": {},
   "outputs": [
    {
     "name": "stdout",
     "output_type": "stream",
     "text": [
      "            duration                    gb_used_month                   \\\n",
      "                mean median         std          mean median       std   \n",
      "plan                                                                     \n",
      "surf      404.689044  402.0  222.702986     16.607346   17.0  7.899502   \n",
      "ultimate  405.446133  400.0  228.666363     17.211326   17.0  7.755841   \n",
      "\n",
      "         message_count                    \n",
      "                  mean median        std  \n",
      "plan                                      \n",
      "surf         31.041165   24.0  33.557683  \n",
      "ultimate     37.343923   30.0  34.782576  \n"
     ]
    }
   ],
   "source": [
    "df_grouped = df_final_total_cost.groupby('plan')\n",
    "\n",
    "# Calcular estadísticas descriptivas\n",
    "stats = df_grouped.agg({\n",
    "    'duration': ['mean', 'median', 'std'],\n",
    "    'gb_used_month': ['mean', 'median', 'std'],\n",
    "    'message_count': ['mean', 'median', 'std'],\n",
    "})\n",
    "\n",
    "# Mostrar estadísticas\n",
    "print(stats)"
   ]
  },
  {
   "cell_type": "code",
   "execution_count": 108,
   "metadata": {},
   "outputs": [
    {
     "data": {
      "image/png": "[encoded data removed]",
      "text/plain": [
       "<Figure size 720x2880 with 12 Axes>"
      ]
     },
     "metadata": {
      "needs_background": "light"
     },
     "output_type": "display_data"
    }
   ],
   "source": [
    "df_grouped = df_final_total_cost.groupby('plan')\n",
    "\n",
    "stats = df_grouped.mean()\n",
    "\n",
    "stats = stats.sort_values(by='duration', ascending=False)\n",
    "\n",
    "stats.plot(kind='bar', y=['duration', 'gb_used_month', 'message_count'], subplots=True, layout=(12, 1), figsize=(10, 40))\n",
    "plt.show()"
   ]
  },
  {
   "cell_type": "markdown",
   "metadata": {},
   "source": [
    "De acuerdo con los datos, los clientes del plan Ultimate en promedio consumen más datos, duran un poco más en sus llamadas y envían más mensajes de texto que los clientes del plan Surf. Sin embargo, los precios con descuentos promedio para los clientes del plan Ultimate también son más altos."
   ]
  },
  {
   "cell_type": "markdown",
   "metadata": {},
   "source": [
    "### Llamadas"
   ]
  },
  {
   "cell_type": "code",
   "execution_count": 109,
   "metadata": {},
   "outputs": [
    {
     "data": {
      "image/png": "[encoded data removed]",
      "text/plain": [
       "<Figure size 432x288 with 1 Axes>"
      ]
     },
     "metadata": {
      "needs_background": "light"
     },
     "output_type": "display_data"
    }
   ],
   "source": [
    "# Compara la duración promedio de llamadas por cada plan por cada mes. Dibuja una gráfica de barras para visualizarlo.\n",
    "pivot_table = df_final.pivot_table(index='month', columns='plan', values='duration', aggfunc='mean')\n",
    "\n",
    "# Visualizar tabla pivote como gráfica de barras\n",
    "pivot_table.plot.bar()\n",
    "plt.title('Duración promedio de llamadas por mes y plan')\n",
    "plt.xlabel('Mes')\n",
    "plt.ylabel('Duración promedio de llamadas (min)')\n",
    "plt.show()\n"
   ]
  },
  {
   "cell_type": "code",
   "execution_count": 110,
   "metadata": {},
   "outputs": [
    {
     "data": {
      "image/png": "[encoded data removed]",
      "text/plain": [
       "<Figure size 432x288 with 1 Axes>"
      ]
     },
     "metadata": {
      "needs_background": "light"
     },
     "output_type": "display_data"
    },
    {
     "data": {
      "image/png": "[encoded data removed]",
      "text/plain": [
       "<Figure size 432x288 with 1 Axes>"
      ]
     },
     "metadata": {
      "needs_background": "light"
     },
     "output_type": "display_data"
    }
   ],
   "source": [
    "# Compara el número de minutos que los usuarios de cada plan requieren cada mes. Traza un histograma.\n",
    "\n",
    "\n",
    "surf_df = df_final_total_cost[df_final_total_cost['plan'] == 'surf'][['duration']]\n",
    "ultimate_df = df_final_total_cost[df_final_total_cost['plan'] == 'ultimate'][['duration']]\n",
    "\n",
    "surf_df.hist(bins=20, alpha=0.5, label='Surf', color='blue', density=True, range=(0, 1200))\n",
    "ultimate_df.hist(bins=20, alpha=0.5, label='Ultimate', color='orange', density=True, range=(0, 1200))\n",
    "\n",
    "# agregar etiquetas y títulos\n",
    "plt.xlabel('Duración de llamadas (minutos)')\n",
    "plt.ylabel('Frecuencia')\n",
    "plt.title('Comparación de duración de llamadas por plan')\n",
    "plt.legend()\n",
    "\n",
    "# mostrar gráfica\n",
    "plt.show()"
   ]
  },
  {
   "cell_type": "code",
   "execution_count": 111,
   "metadata": {},
   "outputs": [
    {
     "name": "stdout",
     "output_type": "stream",
     "text": [
      "               mean           var\n",
      "month                            \n",
      "2018-01  187.833333  12004.166667\n",
      "2018-02  325.625000  55139.850000\n",
      "2018-03  303.771429  38309.416807\n",
      "2018-04  329.239437  40866.813280\n",
      "2018-05  380.339623  49076.759748\n",
      "2018-06  389.958333  40320.627622\n",
      "2018-07  419.200000  57593.412291\n",
      "2018-08  391.733906  48150.584061\n",
      "2018-09  399.300000  44428.182079\n",
      "2018-10  413.209913  47203.230662\n",
      "2018-11  407.517073  48626.333449\n",
      "2018-12  444.317697  56554.101844\n"
     ]
    }
   ],
   "source": [
    "duration_monthly = df_final_total_cost.groupby(['month'])['duration'].agg(['mean', 'var'])\n",
    "\n",
    "print(duration_monthly)"
   ]
  },
  {
   "cell_type": "markdown",
   "metadata": {},
   "source": [
    "La tabla muestra la duración media y la varianza de las llamadas realizadas en cada mes. Se puede observar que la duración media varía de un mes a otro, alcanzando su punto máximo en diciembre con 442.8 minutos y su punto mínimo en enero con 186.4 minutos. Además, la varianza también es diferente en cada mes, lo que indica que la dispersión de los datos también varía en función del mes. En general, se puede concluir que la duración de las llamadas varía significativamente de un mes a otro."
   ]
  },
  {
   "cell_type": "code",
   "execution_count": 112,
   "metadata": {},
   "outputs": [],
   "source": [
    "df_monthly = df_final_total_cost.groupby('month').agg({'duration': 'sum'})"
   ]
  },
  {
   "cell_type": "code",
   "execution_count": 113,
   "metadata": {},
   "outputs": [
    {
     "data": {
      "image/png": "[encoded data removed]",
      "text/plain": [
       "<Figure size 432x288 with 1 Axes>"
      ]
     },
     "metadata": {
      "needs_background": "light"
     },
     "output_type": "display_data"
    }
   ],
   "source": [
    "df_final_total_cost.boxplot(column='duration', by='plan')\n",
    "plt.xlabel('Plan')\n",
    "plt.ylabel('Duración de llamadas (minutos)')\n",
    "plt.title('Distribución de la duración de llamadas por plan')\n",
    "plt.show()"
   ]
  },
  {
   "cell_type": "markdown",
   "metadata": {},
   "source": [
    "Si ambos planes, Surf y Ultimate, tienen valores atípicos de 35 minutos, y la mayoría de los datos se concentran en el rango de 1 a 11 minutos, pero hay algunos valores que se extienden hasta 24-38 minutos en Surf y 36 minutos en Ultimate, es posible inferir que hay un número limitado de clientes que usan el servicio de manera más intensiva.\n",
    "\n",
    "Los datos sugieren que la mayoría de los clientes de ambos planes utilizan el servicio para llamadas de corta duración, lo que sugiere que podrían ser personas que principalmente usan el servicio para llamadas cotidianas o personales. Sin embargo, hay un pequeño subgrupo de clientes que hacen llamadas más largas, lo que sugiere que podrían ser personas que usan el servicio para negocios o llamadas de trabajo."
   ]
  },
  {
   "cell_type": "markdown",
   "metadata": {},
   "source": [
    "### Mensajes"
   ]
  },
  {
   "cell_type": "code",
   "execution_count": 114,
   "metadata": {},
   "outputs": [
    {
     "data": {
      "image/png": "[encoded data removed]",
      "text/plain": [
       "<Figure size 432x288 with 1 Axes>"
      ]
     },
     "metadata": {
      "needs_background": "light"
     },
     "output_type": "display_data"
    }
   ],
   "source": [
    "# Comprara el número de mensajes que tienden a enviar cada mes los usuarios de cada plan\n",
    "msg_mean = df_final_total_cost.groupby(['plan', 'month'])['message_count'].mean()\n",
    "\n",
    "# convertir el resultado en un dataframe y reiniciar los índices\n",
    "msg_mean_df = msg_mean.reset_index()\n",
    "\n",
    "# trazar un gráfico de barras para comparar los promedios de mensajes por plan y mes\n",
    "msg_mean_df.pivot(index=\"month\", columns='plan', values='message_count').plot(kind='bar')\n",
    "plt.xlabel('Mes')\n",
    "plt.ylabel('Promedio de mensajes')\n",
    "plt.title('Comparación de promedio de mensajes por plan y mes')\n",
    "plt.show()"
   ]
  },
  {
   "cell_type": "code",
   "execution_count": 115,
   "metadata": {},
   "outputs": [
    {
     "name": "stdout",
     "output_type": "stream",
     "text": [
      "              mean          var\n",
      "month                          \n",
      "2018-01  13.833333   238.966667\n",
      "2018-02  16.187500   421.229167\n",
      "2018-03  16.971429   441.734454\n",
      "2018-04  18.774648   511.148491\n",
      "2018-05  26.226415   972.291105\n",
      "2018-06  26.618056   893.706245\n",
      "2018-07  28.933333   938.051397\n",
      "2018-08  31.733906  1095.446130\n",
      "2018-09  32.953571  1025.442281\n",
      "2018-10  35.571429  1261.771930\n",
      "2018-11  34.312195  1122.582003\n",
      "2018-12  40.663113  1493.270880\n"
     ]
    }
   ],
   "source": [
    "mess_monthly = df_final_total_cost.groupby(['month'])[\"message_count\"].agg(['mean', 'var'])\n",
    "\n",
    "print(mess_monthly)"
   ]
  },
  {
   "cell_type": "markdown",
   "metadata": {},
   "source": [
    "Según los datos mostrados, se puede observar que los usuarios en promedio envían más mensajes en los últimos meses del año, especialmente en diciembre. Además, la varianza de la cantidad de mensajes enviados también es mayor en los meses finales del año, lo que sugiere una mayor variabilidad en la cantidad de mensajes enviados en esos meses.\n",
    "\n",
    "En cuanto a la diferencia entre los planes, se puede observar que los usuarios del plan Ultimate tienden a enviar más mensajes en promedio en comparación con los usuarios del plan Surf, en todos los meses del año. La diferencia en la cantidad de mensajes enviados entre los dos planes es más notoria en los meses finales del año, cuando la cantidad promedio de mensajes enviados es más alta. Por lo tanto, se puede concluir que el comportamiento en cuanto a mensajes es diferente entre los planes, y que los usuarios del plan Ultimate tienden a enviar más mensajes en promedio que los usuarios del plan Surf."
   ]
  },
  {
   "cell_type": "markdown",
   "metadata": {},
   "source": [
    " "
   ]
  },
  {
   "cell_type": "markdown",
   "metadata": {},
   "source": [
    "### Internet"
   ]
  },
  {
   "cell_type": "code",
   "execution_count": 116,
   "metadata": {},
   "outputs": [
    {
     "data": {
      "image/png": "[encoded data removed]",
      "text/plain": [
       "<Figure size 432x288 with 1 Axes>"
      ]
     },
     "metadata": {
      "needs_background": "light"
     },
     "output_type": "display_data"
    },
    {
     "data": {
      "image/png": "[encoded data removed]",
      "text/plain": [
       "<Figure size 432x288 with 1 Axes>"
      ]
     },
     "metadata": {
      "needs_background": "light"
     },
     "output_type": "display_data"
    }
   ],
   "source": [
    "# Compara la cantidad de tráfico de internet consumido por usuarios por plan\n",
    "surf_df = df_final_total_cost[df_final_total_cost['plan'] == 'surf'][['gb_used_month']]\n",
    "ultimate_df = df_final_total_cost[df_final_total_cost['plan'] == 'ultimate'][['gb_used_month']]\n",
    "\n",
    "# traer histogramas\n",
    "surf_df.hist(bins=20, alpha=0.5, label='Surf')\n",
    "ultimate_df.hist(bins=20, alpha=0.5, label='Ultimate')\n",
    "\n",
    "# agregar etiquetas y títulos\n",
    "plt.xlabel('Cantidad de tráfico de internet (gB)')\n",
    "plt.ylabel('Frecuencia')\n",
    "plt.title('Comparación de consumo de internet por plan')\n",
    "plt.legend()\n",
    "\n",
    "# mostrar gráfica\n",
    "plt.show()\n"
   ]
  },
  {
   "cell_type": "code",
   "execution_count": 117,
   "metadata": {},
   "outputs": [
    {
     "data": {
      "image/png": "[encoded data removed]",
      "text/plain": [
       "<Figure size 432x288 with 1 Axes>"
      ]
     },
     "metadata": {
      "needs_background": "light"
     },
     "output_type": "display_data"
    }
   ],
   "source": [
    "mb_mean = df_final_total_cost.groupby(['plan', 'month'])['gb_used_month'].mean()\n",
    "mb_mean_df = mb_mean.reset_index()\n",
    "mb_mean_df.pivot(index=\"month\", columns='plan', values='gb_used_month').plot(kind='bar')\n",
    "plt.xlabel('Mes')\n",
    "plt.ylabel('Promedio de GB usados')\n",
    "plt.title('Comparación de promedio de GB usados por plan y mes')\n",
    "plt.show()"
   ]
  },
  {
   "cell_type": "code",
   "execution_count": 118,
   "metadata": {},
   "outputs": [
    {
     "name": "stdout",
     "output_type": "stream",
     "text": [
      "              mean        var\n",
      "month                        \n",
      "2018-01   6.500000  13.900000\n",
      "2018-02  14.437500  43.995833\n",
      "2018-03  15.228571  91.710924\n",
      "2018-04  13.436620  67.449497\n",
      "2018-05  14.867925  58.077628\n",
      "2018-06  15.465278  54.208576\n",
      "2018-07  16.750000  62.065642\n",
      "2018-08  17.175966  67.274937\n",
      "2018-09  16.789286  48.482322\n",
      "2018-10  17.504373  58.689308\n",
      "2018-11  16.643902  54.508581\n",
      "2018-12  18.289979  65.744793\n"
     ]
    }
   ],
   "source": [
    "gb_monthly = df_final_total_cost.groupby(['month'])['gb_used_month'].agg(['mean', 'var'])\n",
    "\n",
    "print(gb_monthly)"
   ]
  },
  {
   "cell_type": "markdown",
   "metadata": {},
   "source": [
    "Según los resultados del análisis del tráfico de internet, podemos observar que el promedio de tráfico mensual de los usuarios varía entre 6237 MB en enero y 18193 MB en diciembre, con una media general de 14329 MB. Además, se puede apreciar una variabilidad considerable en el tráfico de internet, con varianzas mensuales que oscilan entre 1.5 y 9.5 millones de MB.\n",
    "\n",
    "En cuanto a la diferencia entre los planes, se puede observar que en promedio, los usuarios del plan Ultimate tienen un mayor tráfico de internet en comparación con los usuarios del plan Surf, con una diferencia de alrededor de 1000 MB en la media mensual. Sin embargo, la variabilidad en el tráfico mensual de los usuarios es similar para ambos planes. En general, se puede concluir que los usuarios de ambos planes tienen un comportamiento similar en cuanto al tráfico de internet, aunque los usuarios del plan Ultimate tienden a utilizar un poco más de datos."
   ]
  },
  {
   "cell_type": "markdown",
   "metadata": {},
   "source": [
    " "
   ]
  },
  {
   "cell_type": "markdown",
   "metadata": {},
   "source": [
    "## Ingreso"
   ]
  },
  {
   "cell_type": "markdown",
   "metadata": {},
   "source": [
    "[Del mismo modo en que has estudiado el comportamiento del usuario, es decir, estadísticamente, describe el ingreso entre los planes.]"
   ]
  },
  {
   "cell_type": "code",
   "execution_count": 119,
   "metadata": {},
   "outputs": [
    {
     "name": "stderr",
     "output_type": "stream",
     "text": [
      "/tmp/ipykernel_27/665741991.py:5: SettingWithCopyWarning: \n",
      "A value is trying to be set on a copy of a slice from a DataFrame.\n",
      "Try using .loc[row_indexer,col_indexer] = value instead\n",
      "\n",
      "See the caveats in the documentation: https://pandas.pydata.org/pandas-docs/stable/user_guide/indexing.html#returning-a-view-versus-a-copy\n",
      "  income_df['income'] = df_final_total_cost['duration'] * 0.01 + df_final['gb_used_month'] * 0.0001 + df_final['message_count']\n"
     ]
    },
    {
     "data": {
      "image/png": "[encoded data removed]",
      "text/plain": [
       "<Figure size 432x288 with 1 Axes>"
      ]
     },
     "metadata": {
      "needs_background": "light"
     },
     "output_type": "display_data"
    },
    {
     "data": {
      "image/png": "[encoded data removed]",
      "text/plain": [
       "<Figure size 432x288 with 1 Axes>"
      ]
     },
     "metadata": {
      "needs_background": "light"
     },
     "output_type": "display_data"
    }
   ],
   "source": [
    "# Crear un nuevo DataFrame con información relevante\n",
    "income_df = df_final_total_cost[['plan', 'month', 'total_cost']]\n",
    "\n",
    "# Calcular el ingreso mensual por usuario\n",
    "income_df['income'] = df_final_total_cost['duration'] * 0.01 + df_final['gb_used_month'] * 0.0001 + df_final['message_count']\n",
    "\n",
    "# Crear dos DataFrames separados para cada plan\n",
    "surf_income = income_df[income_df['plan'] == 'surf'][['income']]\n",
    "ultimate_income = income_df[income_df['plan'] == 'ultimate'][['income']]\n",
    "\n",
    "# Traer histogramas comparativos para cada plan\n",
    "surf_income.hist(bins=20, alpha=0.5, label='Surf')\n",
    "ultimate_income.hist(bins=20, alpha=0.5, label='Ultimate')\n",
    "\n",
    "# Agregar etiquetas y títulos\n",
    "plt.xlabel('Ingreso mensual por usuario')\n",
    "plt.ylabel('Frecuencia')\n",
    "plt.title('Comparación de ingresos por plan')\n",
    "plt.legend()\n",
    "\n",
    "# Mostrar gráfica\n",
    "plt.show()"
   ]
  },
  {
   "cell_type": "code",
   "execution_count": 120,
   "metadata": {},
   "outputs": [
    {
     "data": {
      "image/png": "[encoded data removed]",
      "text/plain": [
       "<Figure size 432x288 with 1 Axes>"
      ]
     },
     "metadata": {
      "needs_background": "light"
     },
     "output_type": "display_data"
    }
   ],
   "source": [
    "income_mean = income_df.groupby(['plan', 'month'])['income'].mean().reset_index()\n",
    "income_mean.pivot(index=\"month\", columns='plan', values='income').plot(kind='bar')\n",
    "plt.xlabel('Mes')\n",
    "plt.ylabel('Ingreso promedio por usuario')\n",
    "plt.title('Comparación de ingreso promedio por plan y mes')\n",
    "plt.show()"
   ]
  },
  {
   "cell_type": "code",
   "execution_count": 121,
   "metadata": {},
   "outputs": [
    {
     "name": "stdout",
     "output_type": "stream",
     "text": [
      "              mean          var\n",
      "month                          \n",
      "2018-01  53.333333   666.666667\n",
      "2018-02  49.898125   564.512723\n",
      "2018-03  55.694000  1216.054589\n",
      "2018-04  50.088169  1095.915947\n",
      "2018-05  53.672075  1526.382196\n",
      "2018-06  56.351042  1466.153808\n",
      "2018-07  65.403722  2013.292780\n",
      "2018-08  66.411588  2544.611237\n",
      "2018-09  62.283250  1623.645891\n",
      "2018-10  67.301079  2257.614388\n",
      "2018-11  62.000073  1785.311945\n",
      "2018-12  71.140405  3180.081549\n"
     ]
    }
   ],
   "source": [
    "in_monthly = df_final_total_cost.groupby(['month'])['total_cost'].agg(['mean', 'var'])\n",
    "\n",
    "print(in_monthly)"
   ]
  },
  {
   "cell_type": "markdown",
   "metadata": {},
   "source": [
    "Al observar las tablas, podemos notar que el plan \"ultimate\" tiene un precio base mucho más alto que el plan \"surf\", lo que sugiere que los clientes de \"ultimate\" obtienen más ingresos para la compañía. Sin embargo, también se puede observar que el número de clientes con el plan \"surf\" es mayor que los de \"ultimate\".\n",
    "\n",
    "En cuanto a los ingresos mensuales, podemos ver que los ingresos promedio para ambos planes aumentan en los meses de verano (junio, julio, agosto), lo que indica un posible aumento en la actividad y uso de los servicios de la compañía durante esos meses. Además, en general, los clientes con el plan \"ultimate\" generan más ingresos para la compañía en todos los meses, lo que es coherente con el precio base más alto de este plan.\n",
    "\n",
    "En resumen, aunque hay más clientes con el plan \"surf\", los clientes con el plan \"ultimate\" generan más ingresos para la compañía, lo que sugiere que la compañía podría considerar promocionar el plan \"ultimate\" y ofrecer incentivos para que más clientes se cambien a este plan."
   ]
  },
  {
   "cell_type": "markdown",
   "metadata": {},
   "source": [
    " "
   ]
  },
  {
   "cell_type": "markdown",
   "metadata": {},
   "source": [
    "## Probar las hipótesis estadísticas."
   ]
  },
  {
   "cell_type": "markdown",
   "metadata": {},
   "source": [
    "Hipótesis nula (H0): El ingreso promedio de los usuarios del área NY-NJ es igual al ingreso promedio de los usuarios de otras regiones.\n",
    "\n",
    "Hipótesis alternativa (H1): El ingreso promedio de los usuarios del área NY-NJ es diferente al ingreso promedio de los usuarios de otras regiones.\n",
    "\n",
    "Para probar esta hipótesis, se puede utilizar una prueba t de dos muestras para comparar las medias de los ingresos de los usuarios del área NY-NJ y los usuarios de otras regiones. El valor alfa se puede establecer en 0.05.\n",
    "\n",
    "Antes de realizar la prueba t, es necesario dividir el conjunto de datos en dos grupos: uno para los usuarios del área NY-NJ y otro para los usuarios de otras regiones. Esto se puede hacer utilizando el método str.contains() para identificar los códigos de área que corresponden al área NY-NJ:"
   ]
  },
  {
   "cell_type": "code",
   "execution_count": 122,
   "metadata": {},
   "outputs": [
    {
     "name": "stdout",
     "output_type": "stream",
     "text": [
      "Media de ingresos para el área NY-NJ: $59.65\n",
      "Media de ingresos para otras regiones: $64.85\n"
     ]
    }
   ],
   "source": [
    "df_final_total_cost['area'] = df_final_total_cost['city'].str.extract(r'([A-Z]{2}-[A-Z]{2})', expand=False)\n",
    "\n",
    "# Asignar \"NY-NJ\" a los códigos de área que corresponden al área NY-NJ y \"Other\" a los demás\n",
    "df_final_total_cost['area'] = df_final_total_cost['area'].apply(lambda x: 'NY-NJ' if x == 'NY-NJ' else 'Other')\n",
    "\n",
    "# Dividir los datos en dos grupos: uno para los usuarios del área NY-NJ y otro para los usuarios de otras regiones\n",
    "ny_nj_mask = df_final_total_cost['area'] == 'NY-NJ'\n",
    "ny_nj_df = df_final_total_cost[ny_nj_mask]\n",
    "other_df = df_final_total_cost[~ny_nj_mask]\n",
    "\n",
    "# Calcular las medias de ingresos para cada grupo\n",
    "ny_nj_mean = ny_nj_df['total_cost'].mean()\n",
    "other_mean = other_df['total_cost'].mean()\n",
    "\n",
    "# Imprimir las medias de ingresos para cada grupo\n",
    "print(\"Media de ingresos para el área NY-NJ: ${:.2f}\".format(ny_nj_mean))\n",
    "print(\"Media de ingresos para otras regiones: ${:.2f}\".format(other_mean))"
   ]
  },
  {
   "cell_type": "code",
   "execution_count": 123,
   "metadata": {},
   "outputs": [],
   "source": [
    "in_monthly_var = df_final_total_cost.groupby(['month'])['total_cost'].var()"
   ]
  },
  {
   "cell_type": "code",
   "execution_count": 124,
   "metadata": {},
   "outputs": [],
   "source": [
    "gb_monthly_var = df_final_total_cost.groupby(['month'])['gb_used_month'].var()"
   ]
  },
  {
   "cell_type": "code",
   "execution_count": 125,
   "metadata": {},
   "outputs": [],
   "source": [
    "mess_monthly_var = df_final_total_cost.groupby(['month'])['message_count'].var()"
   ]
  },
  {
   "cell_type": "code",
   "execution_count": 126,
   "metadata": {},
   "outputs": [],
   "source": [
    "duration_monthly_var = df_final_total_cost.groupby(['month'])['duration'].var()"
   ]
  },
  {
   "cell_type": "code",
   "execution_count": 127,
   "metadata": {},
   "outputs": [
    {
     "name": "stdout",
     "output_type": "stream",
     "text": [
      "Estadístico de prueba: 7.1695\n",
      "Valor p de la prueba: 0.0005\n"
     ]
    }
   ],
   "source": [
    "statistic, p_value = levene(mess_monthly_var, duration_monthly_var, gb_monthly_var, in_monthly_var)\n",
    "print(\"Estadístico de prueba: {:.4f}\".format(statistic))\n",
    "print(\"Valor p de la prueba: {:.4f}\".format(p_value))"
   ]
  },
  {
   "cell_type": "markdown",
   "metadata": {},
   "source": [
    "El valor p obtenido (0.0005) es menor que un nivel de significancia comúnmente utilizado de 0.05, lo que indica que hay evidencia suficiente para rechazar la hipótesis nula de que las varianzas de los cuatro grupos son iguales. Por lo tanto, se puede concluir que las varianzas de los cuatro grupos son significativamente diferentes."
   ]
  },
  {
   "cell_type": "code",
   "execution_count": 128,
   "metadata": {},
   "outputs": [
    {
     "name": "stdout",
     "output_type": "stream",
     "text": [
      "P-valor de la prueba de Levene: 0.1338\n",
      "P-valor de la prueba t: 0.0467\n",
      "Hay evidencia estadística para rechazar la hipótesis nula.\n"
     ]
    }
   ],
   "source": [
    "stat, p = levene(ny_nj_df['total_cost'], other_df['total_cost'])\n",
    "\n",
    "# Imprimir el p-valor de la prueba de Levene\n",
    "print(\"P-valor de la prueba de Levene: {:.4f}\".format(p))\n",
    "\n",
    "# Realizar la prueba t\n",
    "if p < 0.05:\n",
    "    t_stat, p_value = ttest_ind(ny_nj_df['total_cost'], other_df['total_cost'], equal_var=False)\n",
    "else:\n",
    "    t_stat, p_value = ttest_ind(ny_nj_df['total_cost'], other_df['total_cost'], equal_var=True)\n",
    "\n",
    "# Imprimir el p-valor de la prueba t\n",
    "print(\"P-valor de la prueba t: {:.4f}\".format(p_value))\n",
    "\n",
    "# Imprimir la conclusión\n",
    "if p_value < 0.05:\n",
    "    print(\"Hay evidencia estadística para rechazar la hipótesis nula.\")\n",
    "else:\n",
    "    print(\"No hay evidencia estadística para rechazar la hipótesis nula.\")"
   ]
  },
  {
   "cell_type": "code",
   "execution_count": 129,
   "metadata": {},
   "outputs": [
    {
     "name": "stdout",
     "output_type": "stream",
     "text": [
      "F-estadístico: 24.45\n",
      "P-valor: 0.0001\n",
      "Hay evidencia estadística para rechazar la hipótesis nula.\n"
     ]
    }
   ],
   "source": [
    "means = df_final_total_cost.groupby(['month', 'plan']).mean()['total_cost'].unstack()\n",
    "\n",
    "# ejecutar el análisis de varianza\n",
    "f_stat, p_value = f_oneway(means['surf'], means['ultimate'])\n",
    "\n",
    "# imprimir los resultados\n",
    "print(\"F-estadístico: {:.2f}\".format(f_stat))\n",
    "print(\"P-valor: {:.4f}\".format(p_value))\n",
    "if p_value < 0.05:\n",
    "    print(\"Hay evidencia estadística para rechazar la hipótesis nula.\")\n",
    "else:\n",
    "    print(\"No hay evidencia estadística para rechazar la hipótesis nula.\")"
   ]
  },
  {
   "cell_type": "markdown",
   "metadata": {},
   "source": [
    "La prueba de Levene se utilizó para verificar si la varianza de los costos totales entre los usuarios de Nueva York y Nueva Jersey y los usuarios de otros estados era significativamente diferente. El p-valor de la prueba de Levene fue mayor que 0.05, lo que sugiere que no hay suficiente evidencia estadística para rechazar la hipótesis nula de que la varianza de los costos totales es igual en ambos grupos.\n",
    "\n",
    "Luego se realizó una prueba t de dos muestras para verificar si la diferencia en los costos totales era estadísticamente significativa entre los usuarios de Nueva York y Nueva Jersey y los usuarios de otros estados. El p-valor de la prueba t fue menor que 0.05, lo que indica que hay suficiente evidencia estadística para rechazar la hipótesis nula de que no hay diferencia en los costos totales entre los dos grupos. Por lo tanto, podemos concluir que los usuarios de Nueva York y Nueva Jersey tienen un costo total significativamente diferente al de los usuarios de otros estados."
   ]
  },
  {
   "cell_type": "markdown",
   "metadata": {},
   "source": [
    "## Conclusión general\n",
    "\n",
    "En resumen, los clientes del plan Ultimate en promedio consumen más datos, duran un poco más en sus llamadas y envían más mensajes de texto que los clientes del plan Surf. Además, se observa que los usuarios en promedio envían más mensajes en los últimos meses del año, especialmente en diciembre. En cuanto al tráfico de internet, se observa que en promedio, los usuarios del plan Ultimate tienen un mayor tráfico de internet en comparación con los usuarios del plan Surf, aunque la variabilidad en el tráfico mensual de los usuarios es similar para ambos planes. En cuanto a los ingresos mensuales, los clientes con el plan \"ultimate\" generan más ingresos para la compañía en todos los meses. En cuanto a la prueba t de Student para muestras independientes, se encontró que hay evidencia estadística para rechazar la hipótesis nula y se puede concluir que la media de ingresos para el área NY-NJ es significativamente diferente de la media de ingresos para otras regiones."
   ]
  }
 ],
 "metadata": {
  "ExecuteTimeLog": [
   {
    "duration": 828,
    "start_time": "2021-11-16T09:21:11.304Z"
   },
   {
    "duration": 893,
    "start_time": "2021-11-16T09:21:17.728Z"
   },
   {
    "duration": 1150,
    "start_time": "2021-11-16T09:21:29.568Z"
   },
   {
    "duration": 3,
    "start_time": "2021-11-16T09:24:14.495Z"
   },
   {
    "duration": 120,
    "start_time": "2021-11-16T09:24:46.630Z"
   },
   {
    "duration": 3,
    "start_time": "2021-11-16T09:28:27.882Z"
   },
   {
    "duration": 4,
    "start_time": "2021-11-16T09:29:54.281Z"
   },
   {
    "duration": 3,
    "start_time": "2021-11-16T09:30:45.936Z"
   },
   {
    "duration": 4,
    "start_time": "2021-11-16T09:31:06.300Z"
   },
   {
    "duration": 113,
    "start_time": "2021-11-16T09:31:37.208Z"
   },
   {
    "duration": 143,
    "start_time": "2021-11-16T09:31:48.656Z"
   },
   {
    "duration": 98,
    "start_time": "2021-11-16T09:31:55.678Z"
   },
   {
    "duration": 3,
    "start_time": "2021-11-16T09:32:08.535Z"
   },
   {
    "duration": 111,
    "start_time": "2021-11-16T09:32:10.120Z"
   },
   {
    "duration": 3,
    "start_time": "2021-11-16T09:32:15.732Z"
   },
   {
    "duration": 4,
    "start_time": "2021-11-16T09:32:29.423Z"
   },
   {
    "duration": 3,
    "start_time": "2021-11-16T10:03:03.074Z"
   },
   {
    "duration": 3,
    "start_time": "2021-11-16T10:10:01.288Z"
   },
   {
    "duration": 3,
    "start_time": "2021-11-16T10:10:46.923Z"
   },
   {
    "duration": 121,
    "start_time": "2021-11-16T10:37:46.494Z"
   },
   {
    "duration": 125,
    "start_time": "2021-11-16T10:38:20.632Z"
   },
   {
    "duration": 112,
    "start_time": "2021-11-16T10:46:53.001Z"
   },
   {
    "duration": 110,
    "start_time": "2021-11-16T10:48:25.775Z"
   },
   {
    "duration": 3,
    "start_time": "2021-11-16T10:50:18.720Z"
   },
   {
    "duration": 4,
    "start_time": "2021-11-16T10:50:37.649Z"
   },
   {
    "duration": 2,
    "start_time": "2021-11-16T10:50:51.884Z"
   },
   {
    "duration": 3,
    "start_time": "2021-11-16T10:51:56.237Z"
   },
   {
    "duration": 101,
    "start_time": "2021-11-16T10:53:13.791Z"
   },
   {
    "duration": 3,
    "start_time": "2021-11-16T10:55:59.186Z"
   },
   {
    "duration": 3,
    "start_time": "2021-11-16T10:56:10.751Z"
   },
   {
    "duration": 3,
    "start_time": "2021-11-16T10:56:49.038Z"
   },
   {
    "duration": 3,
    "start_time": "2021-11-16T10:56:49.174Z"
   },
   {
    "duration": 4,
    "start_time": "2021-11-16T10:56:49.414Z"
   },
   {
    "duration": 3,
    "start_time": "2021-11-16T10:56:49.680Z"
   },
   {
    "duration": 3,
    "start_time": "2021-11-16T10:56:50.370Z"
   },
   {
    "duration": 114,
    "start_time": "2021-11-16T10:59:34.518Z"
   },
   {
    "duration": 3,
    "start_time": "2021-11-16T11:01:41.201Z"
   },
   {
    "duration": 116,
    "start_time": "2021-11-16T11:01:48.754Z"
   },
   {
    "duration": 3,
    "start_time": "2021-11-16T11:02:16.685Z"
   },
   {
    "duration": 3,
    "start_time": "2021-11-16T11:02:19.479Z"
   },
   {
    "duration": 3,
    "start_time": "2021-11-16T11:02:47.067Z"
   },
   {
    "duration": 3,
    "start_time": "2021-11-16T11:02:49.353Z"
   },
   {
    "duration": 3,
    "start_time": "2021-11-16T11:03:07.835Z"
   },
   {
    "duration": 3,
    "start_time": "2021-11-16T11:03:07.953Z"
   },
   {
    "duration": 112,
    "start_time": "2021-11-16T11:07:52.072Z"
   },
   {
    "duration": 187,
    "start_time": "2021-11-16T11:09:23.468Z"
   },
   {
    "duration": 4,
    "start_time": "2021-11-16T11:10:01.455Z"
   },
   {
    "duration": 3,
    "start_time": "2021-11-16T11:10:05.069Z"
   },
   {
    "duration": 4,
    "start_time": "2021-11-16T11:10:13.376Z"
   },
   {
    "duration": 3,
    "start_time": "2021-11-16T11:10:14.434Z"
   },
   {
    "duration": 3,
    "start_time": "2021-11-16T11:10:22.853Z"
   },
   {
    "duration": 4,
    "start_time": "2021-11-16T11:27:29.279Z"
   },
   {
    "duration": 4,
    "start_time": "2021-11-16T11:29:08.919Z"
   },
   {
    "duration": 118,
    "start_time": "2021-11-16T11:29:46.703Z"
   },
   {
    "duration": 437,
    "start_time": "2021-11-16T11:36:02.181Z"
   },
   {
    "duration": 157,
    "start_time": "2021-11-16T11:36:14.388Z"
   },
   {
    "duration": 207,
    "start_time": "2021-11-16T11:47:15.898Z"
   },
   {
    "duration": 3,
    "start_time": "2021-11-16T11:53:52.092Z"
   },
   {
    "duration": 3,
    "start_time": "2021-11-16T11:53:52.236Z"
   },
   {
    "duration": 3,
    "start_time": "2021-11-16T11:59:12.005Z"
   },
   {
    "duration": 112,
    "start_time": "2021-11-16T12:00:33.446Z"
   },
   {
    "duration": 3,
    "start_time": "2021-11-16T12:02:14.453Z"
   },
   {
    "duration": 3,
    "start_time": "2021-11-16T12:02:39.512Z"
   },
   {
    "duration": 106,
    "start_time": "2021-11-16T12:03:03.460Z"
   },
   {
    "duration": 3,
    "start_time": "2021-11-17T20:37:21.139Z"
   },
   {
    "duration": 3,
    "start_time": "2021-11-17T20:37:22.229Z"
   },
   {
    "duration": 3,
    "start_time": "2021-11-17T20:38:38.806Z"
   },
   {
    "duration": 3,
    "start_time": "2021-11-17T20:38:41.958Z"
   },
   {
    "duration": 3,
    "start_time": "2021-11-17T20:43:46.551Z"
   },
   {
    "duration": 4,
    "start_time": "2021-11-17T20:58:21.835Z"
   },
   {
    "duration": 3,
    "start_time": "2021-11-17T20:59:21.872Z"
   },
   {
    "duration": 4,
    "start_time": "2021-11-17T20:59:45.352Z"
   },
   {
    "duration": 4,
    "start_time": "2021-11-17T20:59:49.646Z"
   },
   {
    "duration": 159,
    "start_time": "2021-11-17T21:02:26.949Z"
   },
   {
    "duration": 3,
    "start_time": "2021-11-17T21:03:53.461Z"
   },
   {
    "duration": 3,
    "start_time": "2021-11-17T21:03:53.694Z"
   },
   {
    "duration": 3,
    "start_time": "2021-11-17T21:05:28.145Z"
   },
   {
    "duration": 116,
    "start_time": "2021-11-17T21:05:57.787Z"
   },
   {
    "duration": 3,
    "start_time": "2021-11-17T21:06:37.993Z"
   },
   {
    "duration": 3,
    "start_time": "2021-11-17T21:06:38.261Z"
   },
   {
    "duration": 3,
    "start_time": "2021-11-17T21:11:54.358Z"
   },
   {
    "duration": 3,
    "start_time": "2021-11-17T21:12:43.846Z"
   },
   {
    "duration": 4,
    "start_time": "2021-11-17T21:13:08.773Z"
   },
   {
    "duration": 3,
    "start_time": "2021-11-17T21:14:44.441Z"
   },
   {
    "duration": 3,
    "start_time": "2021-11-17T21:15:42.059Z"
   },
   {
    "duration": 4,
    "start_time": "2021-11-17T21:15:51.995Z"
   },
   {
    "duration": 3,
    "start_time": "2021-11-17T21:15:53.923Z"
   },
   {
    "duration": 3,
    "start_time": "2021-11-17T21:15:55.282Z"
   },
   {
    "duration": 3,
    "start_time": "2021-11-17T21:16:28.492Z"
   },
   {
    "duration": 3,
    "start_time": "2021-11-17T21:16:32.603Z"
   },
   {
    "duration": 3,
    "start_time": "2021-11-17T21:17:06.941Z"
   },
   {
    "duration": 98,
    "start_time": "2021-11-17T21:18:05.733Z"
   },
   {
    "duration": 4,
    "start_time": "2021-11-17T21:21:35.255Z"
   },
   {
    "duration": 3,
    "start_time": "2021-11-17T21:21:37.804Z"
   },
   {
    "duration": 4,
    "start_time": "2021-11-17T21:23:06.071Z"
   },
   {
    "duration": 3,
    "start_time": "2021-11-17T21:23:24.799Z"
   },
   {
    "duration": 3,
    "start_time": "2021-11-17T21:23:32.591Z"
   },
   {
    "duration": 98,
    "start_time": "2021-11-17T21:28:31.559Z"
   },
   {
    "duration": 3,
    "start_time": "2021-11-17T21:28:45.448Z"
   },
   {
    "duration": 3,
    "start_time": "2021-11-17T21:29:17.303Z"
   },
   {
    "duration": 3,
    "start_time": "2021-11-17T21:29:29.617Z"
   },
   {
    "duration": 3,
    "start_time": "2021-11-17T21:29:32.681Z"
   },
   {
    "duration": 3,
    "start_time": "2021-11-17T21:36:11.474Z"
   },
   {
    "duration": 3,
    "start_time": "2021-11-17T21:36:14.791Z"
   },
   {
    "duration": 3,
    "start_time": "2021-11-17T21:36:53.943Z"
   },
   {
    "duration": 3,
    "start_time": "2021-11-17T21:36:56.165Z"
   },
   {
    "duration": 4,
    "start_time": "2021-11-17T21:37:16.590Z"
   },
   {
    "duration": 3,
    "start_time": "2021-11-17T21:37:22.702Z"
   },
   {
    "duration": 4,
    "start_time": "2021-11-17T21:38:03.479Z"
   },
   {
    "duration": 3,
    "start_time": "2021-11-17T21:38:08.601Z"
   },
   {
    "duration": 3,
    "start_time": "2021-11-17T21:38:12.928Z"
   },
   {
    "duration": 3,
    "start_time": "2021-11-17T21:38:48.896Z"
   },
   {
    "duration": 2,
    "start_time": "2021-11-17T21:38:49.171Z"
   },
   {
    "duration": 4,
    "start_time": "2021-11-17T21:39:57.889Z"
   },
   {
    "duration": 3,
    "start_time": "2021-11-17T21:39:58.057Z"
   },
   {
    "duration": 3,
    "start_time": "2021-11-17T21:41:20.108Z"
   },
   {
    "duration": 3,
    "start_time": "2021-11-17T21:41:20.629Z"
   },
   {
    "duration": 3,
    "start_time": "2021-11-17T21:42:49.136Z"
   },
   {
    "duration": 3,
    "start_time": "2021-11-17T21:43:15.137Z"
   },
   {
    "duration": 4,
    "start_time": "2021-11-17T21:43:16.766Z"
   },
   {
    "duration": 4,
    "start_time": "2021-11-17T21:43:31.711Z"
   },
   {
    "duration": 3,
    "start_time": "2021-11-17T21:43:36.312Z"
   },
   {
    "duration": 4,
    "start_time": "2021-11-17T21:45:08.825Z"
   },
   {
    "duration": 4,
    "start_time": "2021-11-17T21:45:10.119Z"
   },
   {
    "duration": 4,
    "start_time": "2021-11-17T21:45:13.748Z"
   },
   {
    "duration": 3,
    "start_time": "2021-11-17T21:45:22.219Z"
   },
   {
    "duration": 3,
    "start_time": "2021-11-17T21:45:33.412Z"
   },
   {
    "duration": 2,
    "start_time": "2021-11-17T21:46:01.885Z"
   },
   {
    "duration": 3,
    "start_time": "2021-11-17T21:46:03.628Z"
   },
   {
    "duration": 107,
    "start_time": "2021-11-17T21:47:32.512Z"
   },
   {
    "duration": 103,
    "start_time": "2021-11-17T21:50:36.243Z"
   },
   {
    "duration": 3,
    "start_time": "2021-11-18T06:28:31.440Z"
   },
   {
    "duration": 3,
    "start_time": "2021-11-18T06:29:00.168Z"
   },
   {
    "duration": 3,
    "start_time": "2021-11-18T06:31:27.008Z"
   },
   {
    "duration": 2,
    "start_time": "2021-11-18T06:35:34.288Z"
   },
   {
    "duration": 2,
    "start_time": "2021-11-18T06:38:04.527Z"
   }
  ],
  "kernelspec": {
   "display_name": "Python 3 (ipykernel)",
   "language": "python",
   "name": "python3"
  },
  "language_info": {
   "codemirror_mode": {
    "name": "ipython",
    "version": 3
   },
   "file_extension": ".py",
   "mimetype": "text/x-python",
   "name": "python",
   "nbconvert_exporter": "python",
   "pygments_lexer": "ipython3",
   "version": "3.9.5"
  },
  "toc": {
   "base_numbering": 1,
   "nav_menu": {},
   "number_sections": true,
   "sideBar": true,
   "skip_h1_title": false,
   "title_cell": "Table of Contents",
   "title_sidebar": "Contents",
   "toc_cell": false,
   "toc_position": {},
   "toc_section_display": true,
   "toc_window_display": false
  }
 },
 "nbformat": 4,
 "nbformat_minor": 2
}
